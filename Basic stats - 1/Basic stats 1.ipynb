{
 "cells": [
  {
   "cell_type": "markdown",
   "id": "77933a83-f56d-4b20-9330-f28214f47eef",
   "metadata": {},
   "source": [
    "# BASIC STATISTICS\n",
    "## Descriptive Analytics and Data Preprocessing on Sales & Discounts Dataset"
   ]
  },
  {
   "cell_type": "markdown",
   "id": "35a71f06-63aa-4800-897f-95c77f848a31",
   "metadata": {},
   "source": [
    "## Descriptive Analytics for Numerical Columns"
   ]
  },
  {
   "cell_type": "markdown",
   "id": "35eb9253-ddea-4b4b-b08c-b39e47c59970",
   "metadata": {},
   "source": [
    "### Import dependensies "
   ]
  },
  {
   "cell_type": "code",
   "execution_count": 5,
   "id": "242dea03-e5f5-47a6-a869-8027a7a4b41e",
   "metadata": {},
   "outputs": [],
   "source": [
    "import numpy as np\n",
    "import pandas as pd \n",
    "import matplotlib.pyplot as plt\n",
    "import seaborn as sns  "
   ]
  },
  {
   "cell_type": "code",
   "execution_count": 6,
   "id": "3f3c8577-31d1-46e7-bb77-49575c1bdf3d",
   "metadata": {},
   "outputs": [],
   "source": [
    "data= pd.read_csv('sales_data_with_discounts.csv', index_col='Date')"
   ]
  },
  {
   "cell_type": "code",
   "execution_count": 7,
   "id": "31b7d019-21d0-4462-b8be-d17a594fb856",
   "metadata": {
    "scrolled": true
   },
   "outputs": [
    {
     "data": {
      "text/html": [
       "<div>\n",
       "<style scoped>\n",
       "    .dataframe tbody tr th:only-of-type {\n",
       "        vertical-align: middle;\n",
       "    }\n",
       "\n",
       "    .dataframe tbody tr th {\n",
       "        vertical-align: top;\n",
       "    }\n",
       "\n",
       "    .dataframe thead th {\n",
       "        text-align: right;\n",
       "    }\n",
       "</style>\n",
       "<table border=\"1\" class=\"dataframe\">\n",
       "  <thead>\n",
       "    <tr style=\"text-align: right;\">\n",
       "      <th></th>\n",
       "      <th>Day</th>\n",
       "      <th>SKU</th>\n",
       "      <th>City</th>\n",
       "      <th>Volume</th>\n",
       "      <th>BU</th>\n",
       "      <th>Brand</th>\n",
       "      <th>Model</th>\n",
       "      <th>Avg Price</th>\n",
       "      <th>Total Sales Value</th>\n",
       "      <th>Discount Rate (%)</th>\n",
       "      <th>Discount Amount</th>\n",
       "      <th>Net Sales Value</th>\n",
       "    </tr>\n",
       "    <tr>\n",
       "      <th>Date</th>\n",
       "      <th></th>\n",
       "      <th></th>\n",
       "      <th></th>\n",
       "      <th></th>\n",
       "      <th></th>\n",
       "      <th></th>\n",
       "      <th></th>\n",
       "      <th></th>\n",
       "      <th></th>\n",
       "      <th></th>\n",
       "      <th></th>\n",
       "      <th></th>\n",
       "    </tr>\n",
       "  </thead>\n",
       "  <tbody>\n",
       "    <tr>\n",
       "      <th>01-04-2021</th>\n",
       "      <td>Thursday</td>\n",
       "      <td>M01</td>\n",
       "      <td>C</td>\n",
       "      <td>15</td>\n",
       "      <td>Mobiles</td>\n",
       "      <td>RealU</td>\n",
       "      <td>RU-10</td>\n",
       "      <td>12100</td>\n",
       "      <td>181500</td>\n",
       "      <td>11.654820</td>\n",
       "      <td>21153.498820</td>\n",
       "      <td>160346.501180</td>\n",
       "    </tr>\n",
       "    <tr>\n",
       "      <th>01-04-2021</th>\n",
       "      <td>Thursday</td>\n",
       "      <td>M02</td>\n",
       "      <td>C</td>\n",
       "      <td>10</td>\n",
       "      <td>Mobiles</td>\n",
       "      <td>RealU</td>\n",
       "      <td>RU-9 Plus</td>\n",
       "      <td>10100</td>\n",
       "      <td>101000</td>\n",
       "      <td>11.560498</td>\n",
       "      <td>11676.102961</td>\n",
       "      <td>89323.897039</td>\n",
       "    </tr>\n",
       "    <tr>\n",
       "      <th>01-04-2021</th>\n",
       "      <td>Thursday</td>\n",
       "      <td>M03</td>\n",
       "      <td>C</td>\n",
       "      <td>7</td>\n",
       "      <td>Mobiles</td>\n",
       "      <td>YouM</td>\n",
       "      <td>YM-99</td>\n",
       "      <td>16100</td>\n",
       "      <td>112700</td>\n",
       "      <td>9.456886</td>\n",
       "      <td>10657.910157</td>\n",
       "      <td>102042.089843</td>\n",
       "    </tr>\n",
       "    <tr>\n",
       "      <th>01-04-2021</th>\n",
       "      <td>Thursday</td>\n",
       "      <td>M04</td>\n",
       "      <td>C</td>\n",
       "      <td>6</td>\n",
       "      <td>Mobiles</td>\n",
       "      <td>YouM</td>\n",
       "      <td>YM-99 Plus</td>\n",
       "      <td>20100</td>\n",
       "      <td>120600</td>\n",
       "      <td>6.935385</td>\n",
       "      <td>8364.074702</td>\n",
       "      <td>112235.925298</td>\n",
       "    </tr>\n",
       "    <tr>\n",
       "      <th>01-04-2021</th>\n",
       "      <td>Thursday</td>\n",
       "      <td>M05</td>\n",
       "      <td>C</td>\n",
       "      <td>3</td>\n",
       "      <td>Mobiles</td>\n",
       "      <td>YouM</td>\n",
       "      <td>YM-98</td>\n",
       "      <td>8100</td>\n",
       "      <td>24300</td>\n",
       "      <td>17.995663</td>\n",
       "      <td>4372.946230</td>\n",
       "      <td>19927.053770</td>\n",
       "    </tr>\n",
       "    <tr>\n",
       "      <th>...</th>\n",
       "      <td>...</td>\n",
       "      <td>...</td>\n",
       "      <td>...</td>\n",
       "      <td>...</td>\n",
       "      <td>...</td>\n",
       "      <td>...</td>\n",
       "      <td>...</td>\n",
       "      <td>...</td>\n",
       "      <td>...</td>\n",
       "      <td>...</td>\n",
       "      <td>...</td>\n",
       "      <td>...</td>\n",
       "    </tr>\n",
       "    <tr>\n",
       "      <th>15-04-2021</th>\n",
       "      <td>Thursday</td>\n",
       "      <td>L06</td>\n",
       "      <td>C</td>\n",
       "      <td>2</td>\n",
       "      <td>Lifestyle</td>\n",
       "      <td>Jeera</td>\n",
       "      <td>M-Casuals</td>\n",
       "      <td>1300</td>\n",
       "      <td>2600</td>\n",
       "      <td>15.475687</td>\n",
       "      <td>402.367873</td>\n",
       "      <td>2197.632127</td>\n",
       "    </tr>\n",
       "    <tr>\n",
       "      <th>15-04-2021</th>\n",
       "      <td>Thursday</td>\n",
       "      <td>L07</td>\n",
       "      <td>C</td>\n",
       "      <td>6</td>\n",
       "      <td>Lifestyle</td>\n",
       "      <td>Viva</td>\n",
       "      <td>W-Western</td>\n",
       "      <td>2600</td>\n",
       "      <td>15600</td>\n",
       "      <td>17.057027</td>\n",
       "      <td>2660.896242</td>\n",
       "      <td>12939.103758</td>\n",
       "    </tr>\n",
       "    <tr>\n",
       "      <th>15-04-2021</th>\n",
       "      <td>Thursday</td>\n",
       "      <td>L08</td>\n",
       "      <td>C</td>\n",
       "      <td>2</td>\n",
       "      <td>Lifestyle</td>\n",
       "      <td>Viva</td>\n",
       "      <td>W-Lounge</td>\n",
       "      <td>1600</td>\n",
       "      <td>3200</td>\n",
       "      <td>18.965550</td>\n",
       "      <td>606.897606</td>\n",
       "      <td>2593.102394</td>\n",
       "    </tr>\n",
       "    <tr>\n",
       "      <th>15-04-2021</th>\n",
       "      <td>Thursday</td>\n",
       "      <td>L09</td>\n",
       "      <td>C</td>\n",
       "      <td>3</td>\n",
       "      <td>Lifestyle</td>\n",
       "      <td>Jeera</td>\n",
       "      <td>M-Formals</td>\n",
       "      <td>1900</td>\n",
       "      <td>5700</td>\n",
       "      <td>16.793014</td>\n",
       "      <td>957.201826</td>\n",
       "      <td>4742.798174</td>\n",
       "    </tr>\n",
       "    <tr>\n",
       "      <th>15-04-2021</th>\n",
       "      <td>Thursday</td>\n",
       "      <td>L10</td>\n",
       "      <td>C</td>\n",
       "      <td>1</td>\n",
       "      <td>Lifestyle</td>\n",
       "      <td>Jeera</td>\n",
       "      <td>M-Shoes</td>\n",
       "      <td>3100</td>\n",
       "      <td>3100</td>\n",
       "      <td>15.333300</td>\n",
       "      <td>475.332295</td>\n",
       "      <td>2624.667705</td>\n",
       "    </tr>\n",
       "  </tbody>\n",
       "</table>\n",
       "<p>450 rows × 12 columns</p>\n",
       "</div>"
      ],
      "text/plain": [
       "                 Day  SKU City  Volume         BU  Brand       Model  \\\n",
       "Date                                                                   \n",
       "01-04-2021  Thursday  M01    C      15    Mobiles  RealU       RU-10   \n",
       "01-04-2021  Thursday  M02    C      10    Mobiles  RealU   RU-9 Plus   \n",
       "01-04-2021  Thursday  M03    C       7    Mobiles   YouM       YM-99   \n",
       "01-04-2021  Thursday  M04    C       6    Mobiles   YouM  YM-99 Plus   \n",
       "01-04-2021  Thursday  M05    C       3    Mobiles   YouM      YM-98    \n",
       "...              ...  ...  ...     ...        ...    ...         ...   \n",
       "15-04-2021  Thursday  L06    C       2  Lifestyle  Jeera   M-Casuals   \n",
       "15-04-2021  Thursday  L07    C       6  Lifestyle   Viva   W-Western   \n",
       "15-04-2021  Thursday  L08    C       2  Lifestyle   Viva    W-Lounge   \n",
       "15-04-2021  Thursday  L09    C       3  Lifestyle  Jeera   M-Formals   \n",
       "15-04-2021  Thursday  L10    C       1  Lifestyle  Jeera     M-Shoes   \n",
       "\n",
       "            Avg Price  Total Sales Value  Discount Rate (%)  Discount Amount  \\\n",
       "Date                                                                           \n",
       "01-04-2021      12100             181500          11.654820     21153.498820   \n",
       "01-04-2021      10100             101000          11.560498     11676.102961   \n",
       "01-04-2021      16100             112700           9.456886     10657.910157   \n",
       "01-04-2021      20100             120600           6.935385      8364.074702   \n",
       "01-04-2021       8100              24300          17.995663      4372.946230   \n",
       "...               ...                ...                ...              ...   \n",
       "15-04-2021       1300               2600          15.475687       402.367873   \n",
       "15-04-2021       2600              15600          17.057027      2660.896242   \n",
       "15-04-2021       1600               3200          18.965550       606.897606   \n",
       "15-04-2021       1900               5700          16.793014       957.201826   \n",
       "15-04-2021       3100               3100          15.333300       475.332295   \n",
       "\n",
       "            Net Sales Value  \n",
       "Date                         \n",
       "01-04-2021    160346.501180  \n",
       "01-04-2021     89323.897039  \n",
       "01-04-2021    102042.089843  \n",
       "01-04-2021    112235.925298  \n",
       "01-04-2021     19927.053770  \n",
       "...                     ...  \n",
       "15-04-2021      2197.632127  \n",
       "15-04-2021     12939.103758  \n",
       "15-04-2021      2593.102394  \n",
       "15-04-2021      4742.798174  \n",
       "15-04-2021      2624.667705  \n",
       "\n",
       "[450 rows x 12 columns]"
      ]
     },
     "execution_count": 7,
     "metadata": {},
     "output_type": "execute_result"
    }
   ],
   "source": [
    "data"
   ]
  },
  {
   "cell_type": "code",
   "execution_count": 8,
   "id": "9a449655-70e6-4b1a-ae5a-9cc23daf1579",
   "metadata": {},
   "outputs": [
    {
     "name": "stdout",
     "output_type": "stream",
     "text": [
      "<class 'pandas.core.frame.DataFrame'>\n",
      "Index: 450 entries, 01-04-2021 to 15-04-2021\n",
      "Data columns (total 12 columns):\n",
      " #   Column             Non-Null Count  Dtype  \n",
      "---  ------             --------------  -----  \n",
      " 0   Day                450 non-null    object \n",
      " 1   SKU                450 non-null    object \n",
      " 2   City               450 non-null    object \n",
      " 3   Volume             450 non-null    int64  \n",
      " 4   BU                 450 non-null    object \n",
      " 5   Brand              450 non-null    object \n",
      " 6   Model              450 non-null    object \n",
      " 7   Avg Price          450 non-null    int64  \n",
      " 8   Total Sales Value  450 non-null    int64  \n",
      " 9   Discount Rate (%)  450 non-null    float64\n",
      " 10  Discount Amount    450 non-null    float64\n",
      " 11  Net Sales Value    450 non-null    float64\n",
      "dtypes: float64(3), int64(3), object(6)\n",
      "memory usage: 45.7+ KB\n"
     ]
    }
   ],
   "source": [
    "data.info()"
   ]
  },
  {
   "cell_type": "code",
   "execution_count": 9,
   "id": "75fb3d17-e7d3-4b84-b0c0-2f5f8993e8fb",
   "metadata": {},
   "outputs": [],
   "source": [
    "data_1=data[['Volume','Avg Price','Total Sales Value', 'Discount Rate (%)', 'Discount Amount', 'Net Sales Value']]"
   ]
  },
  {
   "cell_type": "code",
   "execution_count": 10,
   "id": "ef6c5dfa-b75b-4f93-aa5a-4380033fcf43",
   "metadata": {},
   "outputs": [
    {
     "data": {
      "text/html": [
       "<div>\n",
       "<style scoped>\n",
       "    .dataframe tbody tr th:only-of-type {\n",
       "        vertical-align: middle;\n",
       "    }\n",
       "\n",
       "    .dataframe tbody tr th {\n",
       "        vertical-align: top;\n",
       "    }\n",
       "\n",
       "    .dataframe thead th {\n",
       "        text-align: right;\n",
       "    }\n",
       "</style>\n",
       "<table border=\"1\" class=\"dataframe\">\n",
       "  <thead>\n",
       "    <tr style=\"text-align: right;\">\n",
       "      <th></th>\n",
       "      <th>Volume</th>\n",
       "      <th>Avg Price</th>\n",
       "      <th>Total Sales Value</th>\n",
       "      <th>Discount Rate (%)</th>\n",
       "      <th>Discount Amount</th>\n",
       "      <th>Net Sales Value</th>\n",
       "    </tr>\n",
       "    <tr>\n",
       "      <th>Date</th>\n",
       "      <th></th>\n",
       "      <th></th>\n",
       "      <th></th>\n",
       "      <th></th>\n",
       "      <th></th>\n",
       "      <th></th>\n",
       "    </tr>\n",
       "  </thead>\n",
       "  <tbody>\n",
       "    <tr>\n",
       "      <th>01-04-2021</th>\n",
       "      <td>15</td>\n",
       "      <td>12100</td>\n",
       "      <td>181500</td>\n",
       "      <td>11.654820</td>\n",
       "      <td>21153.498820</td>\n",
       "      <td>160346.501180</td>\n",
       "    </tr>\n",
       "    <tr>\n",
       "      <th>01-04-2021</th>\n",
       "      <td>10</td>\n",
       "      <td>10100</td>\n",
       "      <td>101000</td>\n",
       "      <td>11.560498</td>\n",
       "      <td>11676.102961</td>\n",
       "      <td>89323.897039</td>\n",
       "    </tr>\n",
       "    <tr>\n",
       "      <th>01-04-2021</th>\n",
       "      <td>7</td>\n",
       "      <td>16100</td>\n",
       "      <td>112700</td>\n",
       "      <td>9.456886</td>\n",
       "      <td>10657.910157</td>\n",
       "      <td>102042.089843</td>\n",
       "    </tr>\n",
       "    <tr>\n",
       "      <th>01-04-2021</th>\n",
       "      <td>6</td>\n",
       "      <td>20100</td>\n",
       "      <td>120600</td>\n",
       "      <td>6.935385</td>\n",
       "      <td>8364.074702</td>\n",
       "      <td>112235.925298</td>\n",
       "    </tr>\n",
       "    <tr>\n",
       "      <th>01-04-2021</th>\n",
       "      <td>3</td>\n",
       "      <td>8100</td>\n",
       "      <td>24300</td>\n",
       "      <td>17.995663</td>\n",
       "      <td>4372.946230</td>\n",
       "      <td>19927.053770</td>\n",
       "    </tr>\n",
       "    <tr>\n",
       "      <th>...</th>\n",
       "      <td>...</td>\n",
       "      <td>...</td>\n",
       "      <td>...</td>\n",
       "      <td>...</td>\n",
       "      <td>...</td>\n",
       "      <td>...</td>\n",
       "    </tr>\n",
       "    <tr>\n",
       "      <th>15-04-2021</th>\n",
       "      <td>2</td>\n",
       "      <td>1300</td>\n",
       "      <td>2600</td>\n",
       "      <td>15.475687</td>\n",
       "      <td>402.367873</td>\n",
       "      <td>2197.632127</td>\n",
       "    </tr>\n",
       "    <tr>\n",
       "      <th>15-04-2021</th>\n",
       "      <td>6</td>\n",
       "      <td>2600</td>\n",
       "      <td>15600</td>\n",
       "      <td>17.057027</td>\n",
       "      <td>2660.896242</td>\n",
       "      <td>12939.103758</td>\n",
       "    </tr>\n",
       "    <tr>\n",
       "      <th>15-04-2021</th>\n",
       "      <td>2</td>\n",
       "      <td>1600</td>\n",
       "      <td>3200</td>\n",
       "      <td>18.965550</td>\n",
       "      <td>606.897606</td>\n",
       "      <td>2593.102394</td>\n",
       "    </tr>\n",
       "    <tr>\n",
       "      <th>15-04-2021</th>\n",
       "      <td>3</td>\n",
       "      <td>1900</td>\n",
       "      <td>5700</td>\n",
       "      <td>16.793014</td>\n",
       "      <td>957.201826</td>\n",
       "      <td>4742.798174</td>\n",
       "    </tr>\n",
       "    <tr>\n",
       "      <th>15-04-2021</th>\n",
       "      <td>1</td>\n",
       "      <td>3100</td>\n",
       "      <td>3100</td>\n",
       "      <td>15.333300</td>\n",
       "      <td>475.332295</td>\n",
       "      <td>2624.667705</td>\n",
       "    </tr>\n",
       "  </tbody>\n",
       "</table>\n",
       "<p>450 rows × 6 columns</p>\n",
       "</div>"
      ],
      "text/plain": [
       "            Volume  Avg Price  Total Sales Value  Discount Rate (%)  \\\n",
       "Date                                                                  \n",
       "01-04-2021      15      12100             181500          11.654820   \n",
       "01-04-2021      10      10100             101000          11.560498   \n",
       "01-04-2021       7      16100             112700           9.456886   \n",
       "01-04-2021       6      20100             120600           6.935385   \n",
       "01-04-2021       3       8100              24300          17.995663   \n",
       "...            ...        ...                ...                ...   \n",
       "15-04-2021       2       1300               2600          15.475687   \n",
       "15-04-2021       6       2600              15600          17.057027   \n",
       "15-04-2021       2       1600               3200          18.965550   \n",
       "15-04-2021       3       1900               5700          16.793014   \n",
       "15-04-2021       1       3100               3100          15.333300   \n",
       "\n",
       "            Discount Amount  Net Sales Value  \n",
       "Date                                          \n",
       "01-04-2021     21153.498820    160346.501180  \n",
       "01-04-2021     11676.102961     89323.897039  \n",
       "01-04-2021     10657.910157    102042.089843  \n",
       "01-04-2021      8364.074702    112235.925298  \n",
       "01-04-2021      4372.946230     19927.053770  \n",
       "...                     ...              ...  \n",
       "15-04-2021       402.367873      2197.632127  \n",
       "15-04-2021      2660.896242     12939.103758  \n",
       "15-04-2021       606.897606      2593.102394  \n",
       "15-04-2021       957.201826      4742.798174  \n",
       "15-04-2021       475.332295      2624.667705  \n",
       "\n",
       "[450 rows x 6 columns]"
      ]
     },
     "execution_count": 10,
     "metadata": {},
     "output_type": "execute_result"
    }
   ],
   "source": [
    "data_1"
   ]
  },
  {
   "cell_type": "code",
   "execution_count": 11,
   "id": "a115a97b-1a02-4059-9ae1-a4436a410a9b",
   "metadata": {},
   "outputs": [
    {
     "data": {
      "text/html": [
       "<div>\n",
       "<style scoped>\n",
       "    .dataframe tbody tr th:only-of-type {\n",
       "        vertical-align: middle;\n",
       "    }\n",
       "\n",
       "    .dataframe tbody tr th {\n",
       "        vertical-align: top;\n",
       "    }\n",
       "\n",
       "    .dataframe thead th {\n",
       "        text-align: right;\n",
       "    }\n",
       "</style>\n",
       "<table border=\"1\" class=\"dataframe\">\n",
       "  <thead>\n",
       "    <tr style=\"text-align: right;\">\n",
       "      <th></th>\n",
       "      <th>Volume</th>\n",
       "      <th>Avg Price</th>\n",
       "      <th>Total Sales Value</th>\n",
       "      <th>Discount Rate (%)</th>\n",
       "      <th>Discount Amount</th>\n",
       "      <th>Net Sales Value</th>\n",
       "    </tr>\n",
       "  </thead>\n",
       "  <tbody>\n",
       "    <tr>\n",
       "      <th>count</th>\n",
       "      <td>450.000000</td>\n",
       "      <td>450.000000</td>\n",
       "      <td>450.000000</td>\n",
       "      <td>450.000000</td>\n",
       "      <td>450.000000</td>\n",
       "      <td>450.000000</td>\n",
       "    </tr>\n",
       "    <tr>\n",
       "      <th>mean</th>\n",
       "      <td>5.066667</td>\n",
       "      <td>10453.433333</td>\n",
       "      <td>33812.835556</td>\n",
       "      <td>15.155242</td>\n",
       "      <td>3346.499424</td>\n",
       "      <td>30466.336131</td>\n",
       "    </tr>\n",
       "    <tr>\n",
       "      <th>std</th>\n",
       "      <td>4.231602</td>\n",
       "      <td>18079.904840</td>\n",
       "      <td>50535.074173</td>\n",
       "      <td>4.220602</td>\n",
       "      <td>4509.902963</td>\n",
       "      <td>46358.656624</td>\n",
       "    </tr>\n",
       "    <tr>\n",
       "      <th>min</th>\n",
       "      <td>1.000000</td>\n",
       "      <td>290.000000</td>\n",
       "      <td>400.000000</td>\n",
       "      <td>5.007822</td>\n",
       "      <td>69.177942</td>\n",
       "      <td>326.974801</td>\n",
       "    </tr>\n",
       "    <tr>\n",
       "      <th>25%</th>\n",
       "      <td>3.000000</td>\n",
       "      <td>465.000000</td>\n",
       "      <td>2700.000000</td>\n",
       "      <td>13.965063</td>\n",
       "      <td>460.459304</td>\n",
       "      <td>2202.208645</td>\n",
       "    </tr>\n",
       "    <tr>\n",
       "      <th>50%</th>\n",
       "      <td>4.000000</td>\n",
       "      <td>1450.000000</td>\n",
       "      <td>5700.000000</td>\n",
       "      <td>16.577766</td>\n",
       "      <td>988.933733</td>\n",
       "      <td>4677.788059</td>\n",
       "    </tr>\n",
       "    <tr>\n",
       "      <th>75%</th>\n",
       "      <td>6.000000</td>\n",
       "      <td>10100.000000</td>\n",
       "      <td>53200.000000</td>\n",
       "      <td>18.114718</td>\n",
       "      <td>5316.495427</td>\n",
       "      <td>47847.912852</td>\n",
       "    </tr>\n",
       "    <tr>\n",
       "      <th>max</th>\n",
       "      <td>31.000000</td>\n",
       "      <td>60100.000000</td>\n",
       "      <td>196400.000000</td>\n",
       "      <td>19.992407</td>\n",
       "      <td>25738.022194</td>\n",
       "      <td>179507.479049</td>\n",
       "    </tr>\n",
       "  </tbody>\n",
       "</table>\n",
       "</div>"
      ],
      "text/plain": [
       "           Volume     Avg Price  Total Sales Value  Discount Rate (%)  \\\n",
       "count  450.000000    450.000000         450.000000         450.000000   \n",
       "mean     5.066667  10453.433333       33812.835556          15.155242   \n",
       "std      4.231602  18079.904840       50535.074173           4.220602   \n",
       "min      1.000000    290.000000         400.000000           5.007822   \n",
       "25%      3.000000    465.000000        2700.000000          13.965063   \n",
       "50%      4.000000   1450.000000        5700.000000          16.577766   \n",
       "75%      6.000000  10100.000000       53200.000000          18.114718   \n",
       "max     31.000000  60100.000000      196400.000000          19.992407   \n",
       "\n",
       "       Discount Amount  Net Sales Value  \n",
       "count       450.000000       450.000000  \n",
       "mean       3346.499424     30466.336131  \n",
       "std        4509.902963     46358.656624  \n",
       "min          69.177942       326.974801  \n",
       "25%         460.459304      2202.208645  \n",
       "50%         988.933733      4677.788059  \n",
       "75%        5316.495427     47847.912852  \n",
       "max       25738.022194    179507.479049  "
      ]
     },
     "execution_count": 11,
     "metadata": {},
     "output_type": "execute_result"
    }
   ],
   "source": [
    "data.describe()"
   ]
  },
  {
   "cell_type": "code",
   "execution_count": 12,
   "id": "4f4f231d-7dc8-4282-8f5d-90de8180e38c",
   "metadata": {},
   "outputs": [],
   "source": [
    "mean=data_1.mean()"
   ]
  },
  {
   "cell_type": "code",
   "execution_count": 13,
   "id": "bef3c539-2ecb-4afa-9689-0bc39f8aec7f",
   "metadata": {},
   "outputs": [
    {
     "data": {
      "text/plain": [
       "Volume                   5.066667\n",
       "Avg Price            10453.433333\n",
       "Total Sales Value    33812.835556\n",
       "Discount Rate (%)       15.155242\n",
       "Discount Amount       3346.499424\n",
       "Net Sales Value      30466.336131\n",
       "dtype: float64"
      ]
     },
     "execution_count": 13,
     "metadata": {},
     "output_type": "execute_result"
    }
   ],
   "source": [
    "mean"
   ]
  },
  {
   "cell_type": "code",
   "execution_count": 14,
   "id": "beaf8931-f592-4002-bd9b-df09c68ed539",
   "metadata": {},
   "outputs": [],
   "source": [
    "median=data_1.median()"
   ]
  },
  {
   "cell_type": "code",
   "execution_count": 15,
   "id": "5c1812bd-08c4-4abf-9b81-c495d7b95c84",
   "metadata": {},
   "outputs": [
    {
     "data": {
      "text/plain": [
       "Volume                  4.000000\n",
       "Avg Price            1450.000000\n",
       "Total Sales Value    5700.000000\n",
       "Discount Rate (%)      16.577766\n",
       "Discount Amount       988.933733\n",
       "Net Sales Value      4677.788059\n",
       "dtype: float64"
      ]
     },
     "execution_count": 15,
     "metadata": {},
     "output_type": "execute_result"
    }
   ],
   "source": [
    "median"
   ]
  },
  {
   "cell_type": "code",
   "execution_count": 16,
   "id": "2eec5898-cb99-4d39-b923-f3ff814aeaef",
   "metadata": {},
   "outputs": [],
   "source": [
    "mode=data_1.mode()"
   ]
  },
  {
   "cell_type": "code",
   "execution_count": 17,
   "id": "5afbd9d0-6847-4765-8cd1-921c4e0e6a15",
   "metadata": {},
   "outputs": [
    {
     "data": {
      "text/html": [
       "<div>\n",
       "<style scoped>\n",
       "    .dataframe tbody tr th:only-of-type {\n",
       "        vertical-align: middle;\n",
       "    }\n",
       "\n",
       "    .dataframe tbody tr th {\n",
       "        vertical-align: top;\n",
       "    }\n",
       "\n",
       "    .dataframe thead th {\n",
       "        text-align: right;\n",
       "    }\n",
       "</style>\n",
       "<table border=\"1\" class=\"dataframe\">\n",
       "  <thead>\n",
       "    <tr style=\"text-align: right;\">\n",
       "      <th></th>\n",
       "      <th>Volume</th>\n",
       "      <th>Avg Price</th>\n",
       "      <th>Total Sales Value</th>\n",
       "      <th>Discount Rate (%)</th>\n",
       "      <th>Discount Amount</th>\n",
       "      <th>Net Sales Value</th>\n",
       "    </tr>\n",
       "  </thead>\n",
       "  <tbody>\n",
       "    <tr>\n",
       "      <th>0</th>\n",
       "      <td>3.0</td>\n",
       "      <td>400.0</td>\n",
       "      <td>24300.0</td>\n",
       "      <td>5.007822</td>\n",
       "      <td>69.177942</td>\n",
       "      <td>326.974801</td>\n",
       "    </tr>\n",
       "    <tr>\n",
       "      <th>1</th>\n",
       "      <td>NaN</td>\n",
       "      <td>450.0</td>\n",
       "      <td>NaN</td>\n",
       "      <td>5.055218</td>\n",
       "      <td>73.025199</td>\n",
       "      <td>330.822058</td>\n",
       "    </tr>\n",
       "    <tr>\n",
       "      <th>2</th>\n",
       "      <td>NaN</td>\n",
       "      <td>500.0</td>\n",
       "      <td>NaN</td>\n",
       "      <td>5.059801</td>\n",
       "      <td>93.649161</td>\n",
       "      <td>466.350839</td>\n",
       "    </tr>\n",
       "    <tr>\n",
       "      <th>3</th>\n",
       "      <td>NaN</td>\n",
       "      <td>1300.0</td>\n",
       "      <td>NaN</td>\n",
       "      <td>5.072124</td>\n",
       "      <td>94.682735</td>\n",
       "      <td>485.317265</td>\n",
       "    </tr>\n",
       "    <tr>\n",
       "      <th>4</th>\n",
       "      <td>NaN</td>\n",
       "      <td>8100.0</td>\n",
       "      <td>NaN</td>\n",
       "      <td>5.084108</td>\n",
       "      <td>102.705757</td>\n",
       "      <td>496.607104</td>\n",
       "    </tr>\n",
       "    <tr>\n",
       "      <th>...</th>\n",
       "      <td>...</td>\n",
       "      <td>...</td>\n",
       "      <td>...</td>\n",
       "      <td>...</td>\n",
       "      <td>...</td>\n",
       "      <td>...</td>\n",
       "    </tr>\n",
       "    <tr>\n",
       "      <th>445</th>\n",
       "      <td>NaN</td>\n",
       "      <td>NaN</td>\n",
       "      <td>NaN</td>\n",
       "      <td>19.940610</td>\n",
       "      <td>17900.983733</td>\n",
       "      <td>162603.186379</td>\n",
       "    </tr>\n",
       "    <tr>\n",
       "      <th>446</th>\n",
       "      <td>NaN</td>\n",
       "      <td>NaN</td>\n",
       "      <td>NaN</td>\n",
       "      <td>19.965340</td>\n",
       "      <td>21153.498820</td>\n",
       "      <td>163915.971000</td>\n",
       "    </tr>\n",
       "    <tr>\n",
       "      <th>447</th>\n",
       "      <td>NaN</td>\n",
       "      <td>NaN</td>\n",
       "      <td>NaN</td>\n",
       "      <td>19.976879</td>\n",
       "      <td>21496.675367</td>\n",
       "      <td>163967.080070</td>\n",
       "    </tr>\n",
       "    <tr>\n",
       "      <th>448</th>\n",
       "      <td>NaN</td>\n",
       "      <td>NaN</td>\n",
       "      <td>NaN</td>\n",
       "      <td>19.982257</td>\n",
       "      <td>25328.224204</td>\n",
       "      <td>166263.161348</td>\n",
       "    </tr>\n",
       "    <tr>\n",
       "      <th>449</th>\n",
       "      <td>NaN</td>\n",
       "      <td>NaN</td>\n",
       "      <td>NaN</td>\n",
       "      <td>19.992407</td>\n",
       "      <td>25738.022194</td>\n",
       "      <td>179507.479049</td>\n",
       "    </tr>\n",
       "  </tbody>\n",
       "</table>\n",
       "<p>450 rows × 6 columns</p>\n",
       "</div>"
      ],
      "text/plain": [
       "     Volume  Avg Price  Total Sales Value  Discount Rate (%)  Discount Amount  \\\n",
       "0       3.0      400.0            24300.0           5.007822        69.177942   \n",
       "1       NaN      450.0                NaN           5.055218        73.025199   \n",
       "2       NaN      500.0                NaN           5.059801        93.649161   \n",
       "3       NaN     1300.0                NaN           5.072124        94.682735   \n",
       "4       NaN     8100.0                NaN           5.084108       102.705757   \n",
       "..      ...        ...                ...                ...              ...   \n",
       "445     NaN        NaN                NaN          19.940610     17900.983733   \n",
       "446     NaN        NaN                NaN          19.965340     21153.498820   \n",
       "447     NaN        NaN                NaN          19.976879     21496.675367   \n",
       "448     NaN        NaN                NaN          19.982257     25328.224204   \n",
       "449     NaN        NaN                NaN          19.992407     25738.022194   \n",
       "\n",
       "     Net Sales Value  \n",
       "0         326.974801  \n",
       "1         330.822058  \n",
       "2         466.350839  \n",
       "3         485.317265  \n",
       "4         496.607104  \n",
       "..               ...  \n",
       "445    162603.186379  \n",
       "446    163915.971000  \n",
       "447    163967.080070  \n",
       "448    166263.161348  \n",
       "449    179507.479049  \n",
       "\n",
       "[450 rows x 6 columns]"
      ]
     },
     "execution_count": 17,
     "metadata": {},
     "output_type": "execute_result"
    }
   ],
   "source": [
    "mode"
   ]
  },
  {
   "cell_type": "code",
   "execution_count": 18,
   "id": "338cf2a8-f3ff-4e38-a61f-aca2871613ee",
   "metadata": {},
   "outputs": [
    {
     "data": {
      "text/plain": [
       "Volume                   4.231602\n",
       "Avg Price            18079.904840\n",
       "Total Sales Value    50535.074173\n",
       "Discount Rate (%)        4.220602\n",
       "Discount Amount       4509.902963\n",
       "Net Sales Value      46358.656624\n",
       "dtype: float64"
      ]
     },
     "execution_count": 18,
     "metadata": {},
     "output_type": "execute_result"
    }
   ],
   "source": [
    "data_1.std()"
   ]
  },
  {
   "cell_type": "markdown",
   "id": "6b271431-9b44-4ed5-bb1c-5a7edf7f274f",
   "metadata": {},
   "source": [
    "## From the above basic analysis we can see that,\n",
    " 1. By observing the comparison between the mean and median we understood that the columns (Volume and discount) were right-skewed as mean > median and all the other numerical columns were left-skewed (mean < median) \n",
    " \n",
    " 2. There is high variability in average price, total sales value, and net Sales Value indicating diverse pricing and sales patterns.\n",
    " \n",
    " 3. Modes for \"Volume,\" \"Discount Amount,\" and \"Net Sales Value\" are considerably lower than their respective means, showing that smaller transactions or lower values are more frequent in the dataset.  "
   ]
  },
  {
   "cell_type": "markdown",
   "id": "54e70f1c-cb74-4144-8c83-b56f1be7bc31",
   "metadata": {},
   "source": [
    "## Data Visualization "
   ]
  },
  {
   "cell_type": "code",
   "execution_count": 21,
   "id": "5a28a3ed-0edc-414d-ba80-606e54a8ba6b",
   "metadata": {},
   "outputs": [
    {
     "data": {
      "text/plain": [
       "Text(0.5, 0, 'Avg Price')"
      ]
     },
     "execution_count": 21,
     "metadata": {},
     "output_type": "execute_result"
    },
    {
     "data": {
      "image/png": "[encoded data removed]",
      "text/plain": [
       "<Figure size 640x480 with 1 Axes>"
      ]
     },
     "metadata": {},
     "output_type": "display_data"
    }
   ],
   "source": [
    "plt.hist(data_1['Avg Price'])\n",
    "plt.xlabel('Avg Price')"
   ]
  },
  {
   "cell_type": "code",
   "execution_count": 22,
   "id": "1f4826bc-66f8-451e-940b-712285973a0a",
   "metadata": {},
   "outputs": [
    {
     "name": "stdout",
     "output_type": "stream",
     "text": [
      "upper whisker value: 20100.0\n"
     ]
    },
    {
     "data": {
      "image/png": "[encoded data removed]",
      "text/plain": [
       "<Figure size 640x480 with 1 Axes>"
      ]
     },
     "metadata": {},
     "output_type": "display_data"
    }
   ],
   "source": [
    "box1=sns.boxplot(data_1,y='Avg Price')\n",
    "whiskers = box1.lines[0:2]  # The first two lines are typically whiskers\n",
    "\n",
    "# Getting the lower whisker data (first whisker in the list)\n",
    "upper_whisker_data = whiskers[1].get_data()  # Get the data for the first whisker\n",
    "upper_whisker_value = upper_whisker_data[-1][1]  # The y-value of the lower whisker\n",
    "\n",
    "print('upper whisker value:',upper_whisker_value)\n",
    "\n",
    "plt.show()"
   ]
  },
  {
   "cell_type": "markdown",
   "id": "800fb5c7-9a89-4f12-b0af-966f6eb25343",
   "metadata": {},
   "source": [
    "### - From above we saw that Avg Price is right skewed which indicate there are outliers and the box plot proves there are four outlier with the upper whisker with 20100 Avg Price "
   ]
  },
  {
   "cell_type": "code",
   "execution_count": 24,
   "id": "dda1f9af-a7d7-4201-b2d9-8b946802765f",
   "metadata": {},
   "outputs": [
    {
     "data": {
      "text/plain": [
       "Text(0.5, 0, 'Total Sales Value')"
      ]
     },
     "execution_count": 24,
     "metadata": {},
     "output_type": "execute_result"
    },
    {
     "data": {
      "image/png": "[encoded data removed]",
      "text/plain": [
       "<Figure size 640x480 with 1 Axes>"
      ]
     },
     "metadata": {},
     "output_type": "display_data"
    }
   ],
   "source": [
    "plt.hist(data_1[\"Total Sales Value\"])\n",
    "plt.xlabel('Total Sales Value')"
   ]
  },
  {
   "cell_type": "code",
   "execution_count": 25,
   "id": "ef202e7c-00fb-4c80-8109-cc3d089fa834",
   "metadata": {},
   "outputs": [
    {
     "name": "stdout",
     "output_type": "stream",
     "text": [
      "upper whisker value: 120600.0\n"
     ]
    },
    {
     "data": {
      "image/png": "[encoded data removed]",
      "text/plain": [
       "<Figure size 640x480 with 1 Axes>"
      ]
     },
     "metadata": {},
     "output_type": "display_data"
    }
   ],
   "source": [
    "box2=sns.boxplot(data_1, y='Total Sales Value')\n",
    "whiskers = box2.lines[0:2]  # The first two lines are typically whiskers\n",
    "\n",
    "# Getting the lower whisker data (first whisker in the list)\n",
    "upper_whisker_data = whiskers[1].get_data()  # Get the data for the first whisker\n",
    "upper_whisker_value = upper_whisker_data[-1][1]  # The y-value of the lower whisker\n",
    "\n",
    "print('upper whisker value:',upper_whisker_value)\n",
    "\n",
    "plt.show()"
   ]
  },
  {
   "cell_type": "markdown",
   "id": "d53720ae-ed04-4371-a723-2a35bf89d1a3",
   "metadata": {},
   "source": [
    "### - From above we saw that Total Sales Value is right skewed which indicates there are outliers and the box plot proves there are multiple outliers with the upper whisker with 120600  Total Sales Value"
   ]
  },
  {
   "cell_type": "code",
   "execution_count": 27,
   "id": "d2604076-26a6-4ab7-b2d3-46a9efed87de",
   "metadata": {},
   "outputs": [
    {
     "data": {
      "text/plain": [
       "Text(0.5, 0, 'Discount Rate (%)')"
      ]
     },
     "execution_count": 27,
     "metadata": {},
     "output_type": "execute_result"
    },
    {
     "data": {
      "image/png": "[encoded data removed]",
      "text/plain": [
       "<Figure size 640x480 with 1 Axes>"
      ]
     },
     "metadata": {},
     "output_type": "display_data"
    }
   ],
   "source": [
    "plt.hist(data_1[\"Discount Rate (%)\"])\n",
    "plt.xlabel('Discount Rate (%)')"
   ]
  },
  {
   "cell_type": "code",
   "execution_count": 28,
   "id": "ddd2c413-16cd-40fc-8876-1c762c6a6dac",
   "metadata": {},
   "outputs": [
    {
     "name": "stdout",
     "output_type": "stream",
     "text": [
      "lower value: 13.965062543701741\n"
     ]
    },
    {
     "data": {
      "image/png": "[encoded data removed]",
      "text/plain": [
       "<Figure size 500x1000 with 1 Axes>"
      ]
     },
     "metadata": {},
     "output_type": "display_data"
    }
   ],
   "source": [
    "plt.figure(figsize=(5,10))\n",
    "box3=sns.boxplot(data_1, y='Discount Rate (%)')\n",
    "whiskers = box3.lines[0:2]  # The first two lines are typically whiskers\n",
    "\n",
    "# Getting the lower whisker data (first whisker in the list)\n",
    "lower_whisker_data = whiskers[0].get_data()  # Get the data for the first whisker\n",
    "lower_whisker_value = lower_whisker_data[1][0]  # The y-value of the lower whisker\n",
    "\n",
    "print('lower value:',lower_whisker_value)\n",
    "\n",
    "plt.show()\n"
   ]
  },
  {
   "cell_type": "markdown",
   "id": "f5f32157-33f6-4e48-abfa-2e09e3c8b9a4",
   "metadata": {},
   "source": [
    "### - From above we saw that the Discount Rate (%) is left skewed which indicates there are outliers and the box plot proves there are multiple outliers with the lower whisker with 13.96  Discount Rate (%)."
   ]
  },
  {
   "cell_type": "code",
   "execution_count": 30,
   "id": "1d4c5cf2-d3e1-430b-8e82-45746a8f88d8",
   "metadata": {},
   "outputs": [
    {
     "data": {
      "text/plain": [
       "Text(0.5, 0, 'Discount Amount')"
      ]
     },
     "execution_count": 30,
     "metadata": {},
     "output_type": "execute_result"
    },
    {
     "data": {
      "image/png": "[encoded data removed]",
      "text/plain": [
       "<Figure size 640x480 with 1 Axes>"
      ]
     },
     "metadata": {},
     "output_type": "display_data"
    }
   ],
   "source": [
    "plt.hist(data_1[\"Discount Amount\"])\n",
    "plt.xlabel('Discount Amount')"
   ]
  },
  {
   "cell_type": "code",
   "execution_count": 31,
   "id": "ffba568a-cb6e-4e02-b410-810ed25fcfd5",
   "metadata": {},
   "outputs": [
    {
     "name": "stdout",
     "output_type": "stream",
     "text": [
      "upper whisker value: 12568.045375015165\n"
     ]
    },
    {
     "data": {
      "image/png": "[encoded data removed]",
      "text/plain": [
       "<Figure size 640x480 with 1 Axes>"
      ]
     },
     "metadata": {},
     "output_type": "display_data"
    }
   ],
   "source": [
    "box4=sns.boxplot(data_1,y='Discount Amount')\n",
    "whiskers = box4.lines[0:2]  # The first two lines are typically whiskers\n",
    "\n",
    "# Getting the lower whisker data (first whisker in the list)\n",
    "upper_whisker_data = whiskers[1].get_data()  # Get the data for the first whisker\n",
    "upper_whisker_value = upper_whisker_data[-1][1]  # The y-value of the lower whisker\n",
    "\n",
    "print('upper whisker value:',upper_whisker_value)\n",
    "\n",
    "plt.show()"
   ]
  },
  {
   "cell_type": "markdown",
   "id": "5114db0f-f1b3-4e30-a411-9bc0fb5f5f0e",
   "metadata": {},
   "source": [
    "### - From above we saw that Total Sales Value is right skewed which indicates there are outliers and the box plot proves there are multiple outliers with the upper whisker with 12568.04  Total Sales Value"
   ]
  },
  {
   "cell_type": "code",
   "execution_count": 33,
   "id": "177ee86b-239c-4ee9-88e0-16b88e2b4463",
   "metadata": {},
   "outputs": [
    {
     "data": {
      "text/plain": [
       "Text(0.5, 0, 'Net Sales Value')"
      ]
     },
     "execution_count": 33,
     "metadata": {},
     "output_type": "execute_result"
    },
    {
     "data": {
      "image/png": "[encoded data removed]",
      "text/plain": [
       "<Figure size 640x480 with 1 Axes>"
      ]
     },
     "metadata": {},
     "output_type": "display_data"
    }
   ],
   "source": [
    "plt.hist(data_1[\"Net Sales Value\"])\n",
    "plt.xlabel('Net Sales Value')"
   ]
  },
  {
   "cell_type": "code",
   "execution_count": 34,
   "id": "c5e3aee2-b1d4-4c4a-89a3-34f48783e325",
   "metadata": {},
   "outputs": [
    {
     "name": "stdout",
     "output_type": "stream",
     "text": [
      "upper whisker value: 115654.3961718994\n"
     ]
    },
    {
     "data": {
      "image/png": "[encoded data removed]",
      "text/plain": [
       "<Figure size 640x480 with 1 Axes>"
      ]
     },
     "metadata": {},
     "output_type": "display_data"
    }
   ],
   "source": [
    "box5=sns.boxplot(data_1,y='Net Sales Value')\n",
    "whiskers = box5.lines[0:2]  # The first two lines are typically whiskers\n",
    "\n",
    "# Getting the lower whisker data (first whisker in the list)\n",
    "upper_whisker_data = whiskers[1].get_data()  # Get the data for the first whisker\n",
    "upper_whisker_value = upper_whisker_data[-1][1]  # The y-value of the lower whisker\n",
    "\n",
    "print('upper whisker value:',upper_whisker_value)\n",
    "\n",
    "plt.show()"
   ]
  },
  {
   "cell_type": "markdown",
   "id": "3daf4044-25cb-4d19-9c6a-1ee84edce7de",
   "metadata": {},
   "source": [
    "### - From above we saw that Total Sales Value is right skewed which indicates there are outliers and the box plot proves there are multiple outliers with the upper whisker with 115654.39  Total Sales Value"
   ]
  },
  {
   "cell_type": "code",
   "execution_count": 36,
   "id": "ffe0fcd4-394e-46b6-a069-128260c45eaa",
   "metadata": {},
   "outputs": [
    {
     "data": {
      "text/plain": [
       "Index(['Volume', 'Avg Price', 'Total Sales Value', 'Discount Rate (%)',\n",
       "       'Discount Amount', 'Net Sales Value'],\n",
       "      dtype='object')"
      ]
     },
     "execution_count": 36,
     "metadata": {},
     "output_type": "execute_result"
    }
   ],
   "source": [
    "data_1.columns"
   ]
  },
  {
   "cell_type": "code",
   "execution_count": 37,
   "id": "05a49e16-6cca-4a86-b418-127897242e7a",
   "metadata": {},
   "outputs": [
    {
     "data": {
      "text/plain": [
       "Index(['Day', 'SKU', 'City', 'Volume', 'BU', 'Brand', 'Model', 'Avg Price',\n",
       "       'Total Sales Value', 'Discount Rate (%)', 'Discount Amount',\n",
       "       'Net Sales Value'],\n",
       "      dtype='object')"
      ]
     },
     "execution_count": 37,
     "metadata": {},
     "output_type": "execute_result"
    }
   ],
   "source": [
    "data.columns"
   ]
  },
  {
   "cell_type": "code",
   "execution_count": 38,
   "id": "4f44d242-a749-464b-8174-8b7f043f6384",
   "metadata": {},
   "outputs": [],
   "source": [
    "data_2=data.drop(['Volume','Avg Price','Total Sales Value', 'Discount Rate (%)', 'Discount Amount', 'Net Sales Value'], axis=1)"
   ]
  },
  {
   "cell_type": "code",
   "execution_count": 39,
   "id": "9917cb6e-ff9d-4b44-8191-27e48b04c134",
   "metadata": {},
   "outputs": [
    {
     "name": "stdout",
     "output_type": "stream",
     "text": [
      "<class 'pandas.core.frame.DataFrame'>\n",
      "Index: 450 entries, 01-04-2021 to 15-04-2021\n",
      "Data columns (total 6 columns):\n",
      " #   Column  Non-Null Count  Dtype \n",
      "---  ------  --------------  ----- \n",
      " 0   Day     450 non-null    object\n",
      " 1   SKU     450 non-null    object\n",
      " 2   City    450 non-null    object\n",
      " 3   BU      450 non-null    object\n",
      " 4   Brand   450 non-null    object\n",
      " 5   Model   450 non-null    object\n",
      "dtypes: object(6)\n",
      "memory usage: 40.8+ KB\n"
     ]
    }
   ],
   "source": [
    "data_2.info()"
   ]
  },
  {
   "cell_type": "code",
   "execution_count": 81,
   "id": "0d9f288d-e877-4c2f-8cc1-a800f2ebbab3",
   "metadata": {},
   "outputs": [
    {
     "data": {
      "image/png": "[encoded data removed]",
      "text/plain": [
       "<Figure size 1000x600 with 1 Axes>"
      ]
     },
     "metadata": {},
     "output_type": "display_data"
    }
   ],
   "source": [
    "xaxis=data_2.Day.value_counts().index\n",
    "yaxis=data_2.Day.value_counts().values\n",
    "\n",
    "plt.figure(figsize=(10,6))\n",
    "plt.bar(xaxis,yaxis)\n",
    "plt.xlabel('Day')\n",
    "plt.ylabel('count')\n",
    "plt.show()"
   ]
  },
  {
   "cell_type": "markdown",
   "id": "4a4e857a-db75-43c5-a066-36a1fb0e75cc",
   "metadata": {},
   "source": [
    "##  - we saw that Thursday has the highest number of entries (90), indicating higher sales activity or records on that day. All other days (Monday, Tuesday, Wednesday, Friday, Saturday, Sunday) show an equal count of 60 records, suggesting balanced activity across these days or consistent data logging"
   ]
  },
  {
   "cell_type": "code",
   "execution_count": 41,
   "id": "dc7c6885-bfa1-4dae-baac-e594763ced8a",
   "metadata": {},
   "outputs": [
    {
     "data": {
      "image/png": "[encoded data removed]",
      "text/plain": [
       "<Figure size 2000x800 with 1 Axes>"
      ]
     },
     "metadata": {},
     "output_type": "display_data"
    }
   ],
   "source": [
    "plt.figure(figsize=(20,8))\n",
    "plt.bar(data_2.SKU.value_counts().index, data_2.SKU.value_counts().values)\n",
    "plt.xlabel('SKU',fontsize=13)\n",
    "plt.ylabel('Counts',fontsize=12)\n",
    "plt.show()"
   ]
  },
  {
   "cell_type": "markdown",
   "id": "5e464fa9-461b-40e7-9fe0-84abc6581c54",
   "metadata": {},
   "source": [
    "## - here all the SKU are having same no. of sale count on every day "
   ]
  },
  {
   "cell_type": "code",
   "execution_count": 127,
   "id": "6591da83-354b-4bf6-9420-ebba102e9e22",
   "metadata": {},
   "outputs": [
    {
     "data": {
      "text/plain": [
       "<BarContainer object of 1 artists>"
      ]
     },
     "execution_count": 127,
     "metadata": {},
     "output_type": "execute_result"
    },
    {
     "data": {
      "image/png": "[encoded data removed]",
      "text/plain": [
       "<Figure size 640x480 with 1 Axes>"
      ]
     },
     "metadata": {},
     "output_type": "display_data"
    }
   ],
   "source": [
    "plt.bar(data_2.City.unique(),data_2.City.value_counts())"
   ]
  },
  {
   "cell_type": "markdown",
   "id": "5cd9a60f-3b38-4a1a-86f8-6b20cc9ba70a",
   "metadata": {},
   "source": [
    "## - From above we got to know that sales in only done in one city "
   ]
  },
  {
   "cell_type": "code",
   "execution_count": 146,
   "id": "c663f23b-6d41-40ac-b84a-ea80483458b7",
   "metadata": {},
   "outputs": [],
   "source": [
    "yaxis2=data_2.BU.value_counts().values"
   ]
  },
  {
   "cell_type": "code",
   "execution_count": 154,
   "id": "2dae6ec7-789f-45c3-bea9-ab67b6ab2330",
   "metadata": {},
   "outputs": [
    {
     "data": {
      "text/plain": [
       "<Axes: xlabel='BU'>"
      ]
     },
     "execution_count": 154,
     "metadata": {},
     "output_type": "execute_result"
    },
    {
     "data": {
      "image/png": "[encoded data removed]",
      "text/plain": [
       "<Figure size 640x480 with 1 Axes>"
      ]
     },
     "metadata": {},
     "output_type": "display_data"
    }
   ],
   "source": [
    "sns.barplot(x=data_2['BU'].value_counts().index, y=data_2['BU'].value_counts().values)\n"
   ]
  },
  {
   "cell_type": "markdown",
   "id": "c00d5c80-73a6-4fa1-a962-a0abcf4961f5",
   "metadata": {},
   "source": [
    "## - From above, we there are three category of products and all have the sales count(150)"
   ]
  },
  {
   "cell_type": "code",
   "execution_count": 157,
   "id": "7f110e02-d001-477d-9f78-852fda910cac",
   "metadata": {},
   "outputs": [
    {
     "data": {
      "text/plain": [
       "Brand\n",
       "Jeera      90\n",
       "Gear       60\n",
       "Viva       60\n",
       "RealU      45\n",
       "YouM       45\n",
       "Babaji     45\n",
       "Vedic      45\n",
       "Sumsang    30\n",
       "Orange     30\n",
       "Name: count, dtype: int64"
      ]
     },
     "execution_count": 157,
     "metadata": {},
     "output_type": "execute_result"
    }
   ],
   "source": [
    "data_2.Brand.value_counts()"
   ]
  },
  {
   "cell_type": "code",
   "execution_count": 193,
   "id": "eec340e2-a4e2-4341-b3d7-768aa56c4301",
   "metadata": {},
   "outputs": [
    {
     "data": {
      "text/plain": [
       "<Axes: xlabel='Brand'>"
      ]
     },
     "execution_count": 193,
     "metadata": {},
     "output_type": "execute_result"
    },
    {
     "data": {
      "image/png": "[encoded data removed]",
      "text/plain": [
       "<Figure size 1400x800 with 1 Axes>"
      ]
     },
     "metadata": {},
     "output_type": "display_data"
    }
   ],
   "source": [
    "plt.figure(figsize=(14, 8))\n",
    "sns.barplot(x=data_2.Brand.value_counts().index, y=data_2.Brand.value_counts().values)"
   ]
  },
  {
   "cell_type": "markdown",
   "id": "9452266c-fa1d-4c2b-ad89-ce75e9fa5bca",
   "metadata": {},
   "source": [
    "## - Above bar plot shows us the sale count of all the brands associated, we have top 3 brands Jeera, Gear and Viva "
   ]
  },
  {
   "cell_type": "code",
   "execution_count": 183,
   "id": "a187f7b9-b428-4a1e-8054-4663c5039d0e",
   "metadata": {},
   "outputs": [
    {
     "data": {
      "text/plain": [
       "<Axes: xlabel='Brand', ylabel='count'>"
      ]
     },
     "execution_count": 183,
     "metadata": {},
     "output_type": "execute_result"
    },
    {
     "data": {
      "image/png": "[encoded data removed]",
      "text/plain": [
       "<Figure size 1400x800 with 1 Axes>"
      ]
     },
     "metadata": {},
     "output_type": "display_data"
    }
   ],
   "source": [
    "brand_bu_counts = data_2.groupby(['Brand', 'BU']).size().reset_index(name='count')\n",
    "\n",
    "# Create the barplot\n",
    "plt.figure(figsize=(14, 8))\n",
    "sns.barplot(x='Brand', y='count', hue='BU', data=brand_bu_counts)"
   ]
  },
  {
   "cell_type": "markdown",
   "id": "f35ffef8-290c-402c-9798-f17df631fe18",
   "metadata": {},
   "source": [
    "## - Above graph shows the classification of the brands with respect to the BU/ product category"
   ]
  },
  {
   "cell_type": "code",
   "execution_count": 197,
   "id": "2723cd4e-2e78-42c5-894c-c956d301d086",
   "metadata": {},
   "outputs": [
    {
     "data": {
      "text/plain": [
       "Model\n",
       "RU-10             15\n",
       "RU-9 Plus         15\n",
       "M-Formals         15\n",
       "W-Lounge          15\n",
       "W-Western         15\n",
       "M-Casuals         15\n",
       "M-Jeans           15\n",
       "W-Inners          15\n",
       "W-Casuals         15\n",
       "M- Inners         15\n",
       "M- T Shirts       15\n",
       "Gear BB Cream     15\n",
       "Gear Shampoo      15\n",
       "Gear Cream        15\n",
       "Gear Oil          15\n",
       "Vedic Oil         15\n",
       "Babaji Cream      15\n",
       "Babaji Shampoo    15\n",
       "Vedic Shampoo     15\n",
       "Vedic Cream       15\n",
       "Babaji Oil        15\n",
       "O-11              15\n",
       "O-10              15\n",
       "S-21              15\n",
       "S-20              15\n",
       "RU-9              15\n",
       "YM-98             15\n",
       "YM-99 Plus        15\n",
       "YM-99             15\n",
       "M-Shoes           15\n",
       "Name: count, dtype: int64"
      ]
     },
     "execution_count": 197,
     "metadata": {},
     "output_type": "execute_result"
    }
   ],
   "source": [
    "data_2.Model.value_counts()"
   ]
  },
  {
   "cell_type": "code",
   "execution_count": 205,
   "id": "3519724d-f1ca-408a-bf7f-7ada3c3b7379",
   "metadata": {},
   "outputs": [
    {
     "data": {
      "text/plain": [
       "<Axes: xlabel='Model'>"
      ]
     },
     "execution_count": 205,
     "metadata": {},
     "output_type": "execute_result"
    },
    {
     "data": {
      "image/png": "[encoded data removed]",
      "text/plain": [
       "<Figure size 2000x800 with 1 Axes>"
      ]
     },
     "metadata": {},
     "output_type": "display_data"
    }
   ],
   "source": [
    "data3= data_2.Model.value_counts()\n",
    "data3.plot(kind='bar', figsize=(20,8))"
   ]
  },
  {
   "cell_type": "markdown",
   "id": "41f0b027-c08a-443c-af7c-fbddfabd4d09",
   "metadata": {},
   "source": [
    "## - Shows the sale count of the models, and we can see that the sales are distributed equally between all models"
   ]
  },
  {
   "cell_type": "code",
   "execution_count": 225,
   "id": "3db4b8df-448b-4f52-804a-1d4da6ce1cd8",
   "metadata": {},
   "outputs": [
    {
     "data": {
      "text/plain": [
       "<Axes: xlabel='Model', ylabel='count'>"
      ]
     },
     "execution_count": 225,
     "metadata": {},
     "output_type": "execute_result"
    },
    {
     "data": {
      "image/png": "[encoded data removed]",
      "text/plain": [
       "<Figure size 2200x1200 with 1 Axes>"
      ]
     },
     "metadata": {},
     "output_type": "display_data"
    }
   ],
   "source": [
    "data2=data_2.groupby(['Brand','Model']).size().reset_index(name='count')\n",
    "plt.figure(figsize=(22,12))\n",
    "sns.barplot(data=data2,x='Model',y='count',hue='Brand')"
   ]
  },
  {
   "cell_type": "markdown",
   "id": "e793cab6-8c1c-4997-8f03-1a452087a3ac",
   "metadata": {},
   "source": [
    "## - Above shows the classification of models according to the brands, as which model comes under which brand"
   ]
  },
  {
   "cell_type": "markdown",
   "id": "72bae41f-2143-45fd-b692-abd177eead58",
   "metadata": {},
   "source": [
    "# Standardization of Numerical data"
   ]
  },
  {
   "cell_type": "code",
   "execution_count": 231,
   "id": "d733be92-222b-4896-a362-dbab128aca40",
   "metadata": {},
   "outputs": [
    {
     "data": {
      "text/html": [
       "<div>\n",
       "<style scoped>\n",
       "    .dataframe tbody tr th:only-of-type {\n",
       "        vertical-align: middle;\n",
       "    }\n",
       "\n",
       "    .dataframe tbody tr th {\n",
       "        vertical-align: top;\n",
       "    }\n",
       "\n",
       "    .dataframe thead th {\n",
       "        text-align: right;\n",
       "    }\n",
       "</style>\n",
       "<table border=\"1\" class=\"dataframe\">\n",
       "  <thead>\n",
       "    <tr style=\"text-align: right;\">\n",
       "      <th></th>\n",
       "      <th>Volume</th>\n",
       "      <th>Avg Price</th>\n",
       "      <th>Total Sales Value</th>\n",
       "      <th>Discount Rate (%)</th>\n",
       "      <th>Discount Amount</th>\n",
       "      <th>Net Sales Value</th>\n",
       "    </tr>\n",
       "    <tr>\n",
       "      <th>Date</th>\n",
       "      <th></th>\n",
       "      <th></th>\n",
       "      <th></th>\n",
       "      <th></th>\n",
       "      <th></th>\n",
       "      <th></th>\n",
       "    </tr>\n",
       "  </thead>\n",
       "  <tbody>\n",
       "    <tr>\n",
       "      <th>01-04-2021</th>\n",
       "      <td>15</td>\n",
       "      <td>12100</td>\n",
       "      <td>181500</td>\n",
       "      <td>11.654820</td>\n",
       "      <td>21153.498820</td>\n",
       "      <td>160346.501180</td>\n",
       "    </tr>\n",
       "    <tr>\n",
       "      <th>01-04-2021</th>\n",
       "      <td>10</td>\n",
       "      <td>10100</td>\n",
       "      <td>101000</td>\n",
       "      <td>11.560498</td>\n",
       "      <td>11676.102961</td>\n",
       "      <td>89323.897039</td>\n",
       "    </tr>\n",
       "    <tr>\n",
       "      <th>01-04-2021</th>\n",
       "      <td>7</td>\n",
       "      <td>16100</td>\n",
       "      <td>112700</td>\n",
       "      <td>9.456886</td>\n",
       "      <td>10657.910157</td>\n",
       "      <td>102042.089843</td>\n",
       "    </tr>\n",
       "    <tr>\n",
       "      <th>01-04-2021</th>\n",
       "      <td>6</td>\n",
       "      <td>20100</td>\n",
       "      <td>120600</td>\n",
       "      <td>6.935385</td>\n",
       "      <td>8364.074702</td>\n",
       "      <td>112235.925298</td>\n",
       "    </tr>\n",
       "    <tr>\n",
       "      <th>01-04-2021</th>\n",
       "      <td>3</td>\n",
       "      <td>8100</td>\n",
       "      <td>24300</td>\n",
       "      <td>17.995663</td>\n",
       "      <td>4372.946230</td>\n",
       "      <td>19927.053770</td>\n",
       "    </tr>\n",
       "    <tr>\n",
       "      <th>...</th>\n",
       "      <td>...</td>\n",
       "      <td>...</td>\n",
       "      <td>...</td>\n",
       "      <td>...</td>\n",
       "      <td>...</td>\n",
       "      <td>...</td>\n",
       "    </tr>\n",
       "    <tr>\n",
       "      <th>15-04-2021</th>\n",
       "      <td>2</td>\n",
       "      <td>1300</td>\n",
       "      <td>2600</td>\n",
       "      <td>15.475687</td>\n",
       "      <td>402.367873</td>\n",
       "      <td>2197.632127</td>\n",
       "    </tr>\n",
       "    <tr>\n",
       "      <th>15-04-2021</th>\n",
       "      <td>6</td>\n",
       "      <td>2600</td>\n",
       "      <td>15600</td>\n",
       "      <td>17.057027</td>\n",
       "      <td>2660.896242</td>\n",
       "      <td>12939.103758</td>\n",
       "    </tr>\n",
       "    <tr>\n",
       "      <th>15-04-2021</th>\n",
       "      <td>2</td>\n",
       "      <td>1600</td>\n",
       "      <td>3200</td>\n",
       "      <td>18.965550</td>\n",
       "      <td>606.897606</td>\n",
       "      <td>2593.102394</td>\n",
       "    </tr>\n",
       "    <tr>\n",
       "      <th>15-04-2021</th>\n",
       "      <td>3</td>\n",
       "      <td>1900</td>\n",
       "      <td>5700</td>\n",
       "      <td>16.793014</td>\n",
       "      <td>957.201826</td>\n",
       "      <td>4742.798174</td>\n",
       "    </tr>\n",
       "    <tr>\n",
       "      <th>15-04-2021</th>\n",
       "      <td>1</td>\n",
       "      <td>3100</td>\n",
       "      <td>3100</td>\n",
       "      <td>15.333300</td>\n",
       "      <td>475.332295</td>\n",
       "      <td>2624.667705</td>\n",
       "    </tr>\n",
       "  </tbody>\n",
       "</table>\n",
       "<p>450 rows × 6 columns</p>\n",
       "</div>"
      ],
      "text/plain": [
       "            Volume  Avg Price  Total Sales Value  Discount Rate (%)  \\\n",
       "Date                                                                  \n",
       "01-04-2021      15      12100             181500          11.654820   \n",
       "01-04-2021      10      10100             101000          11.560498   \n",
       "01-04-2021       7      16100             112700           9.456886   \n",
       "01-04-2021       6      20100             120600           6.935385   \n",
       "01-04-2021       3       8100              24300          17.995663   \n",
       "...            ...        ...                ...                ...   \n",
       "15-04-2021       2       1300               2600          15.475687   \n",
       "15-04-2021       6       2600              15600          17.057027   \n",
       "15-04-2021       2       1600               3200          18.965550   \n",
       "15-04-2021       3       1900               5700          16.793014   \n",
       "15-04-2021       1       3100               3100          15.333300   \n",
       "\n",
       "            Discount Amount  Net Sales Value  \n",
       "Date                                          \n",
       "01-04-2021     21153.498820    160346.501180  \n",
       "01-04-2021     11676.102961     89323.897039  \n",
       "01-04-2021     10657.910157    102042.089843  \n",
       "01-04-2021      8364.074702    112235.925298  \n",
       "01-04-2021      4372.946230     19927.053770  \n",
       "...                     ...              ...  \n",
       "15-04-2021       402.367873      2197.632127  \n",
       "15-04-2021      2660.896242     12939.103758  \n",
       "15-04-2021       606.897606      2593.102394  \n",
       "15-04-2021       957.201826      4742.798174  \n",
       "15-04-2021       475.332295      2624.667705  \n",
       "\n",
       "[450 rows x 6 columns]"
      ]
     },
     "execution_count": 231,
     "metadata": {},
     "output_type": "execute_result"
    }
   ],
   "source": [
    "data_1"
   ]
  },
  {
   "cell_type": "code",
   "execution_count": 237,
   "id": "891be3ff-8a5d-4652-b3d7-6cbaa0b7e808",
   "metadata": {},
   "outputs": [],
   "source": [
    "from sklearn.preprocessing import MinMaxScaler"
   ]
  },
  {
   "cell_type": "code",
   "execution_count": 241,
   "id": "eb22145a-0af2-4cab-9b14-0c7c226a728f",
   "metadata": {},
   "outputs": [],
   "source": [
    "scaler=MinMaxScaler()\n",
    "data_scaled=scaler.fit_transform(data_1)"
   ]
  },
  {
   "cell_type": "code",
   "execution_count": 243,
   "id": "19f5c824-5479-43f5-98d8-1e2260371260",
   "metadata": {},
   "outputs": [
    {
     "data": {
      "text/plain": [
       "array([[0.46666667, 0.19745862, 0.92397959, 0.44358907, 0.82139736,\n",
       "        0.89306327],\n",
       "       [0.3       , 0.16401939, 0.51326531, 0.43729445, 0.45217949,\n",
       "        0.49668865],\n",
       "       [0.2       , 0.26433707, 0.57295918, 0.29690936, 0.41251301,\n",
       "        0.56766843],\n",
       "       ...,\n",
       "       [0.03333333, 0.02190269, 0.01428571, 0.93147245, 0.02094834,\n",
       "        0.01264718],\n",
       "       [0.06666667, 0.02691858, 0.02704082, 0.78648774, 0.0345954 ,\n",
       "        0.02464455],\n",
       "       [0.        , 0.04698211, 0.01377551, 0.68907332, 0.01582285,\n",
       "        0.01282334]])"
      ]
     },
     "execution_count": 243,
     "metadata": {},
     "output_type": "execute_result"
    }
   ],
   "source": [
    "data_scaled"
   ]
  },
  {
   "cell_type": "code",
   "execution_count": 251,
   "id": "9998fcc2-ecf6-41fe-b520-3a754184f3b2",
   "metadata": {},
   "outputs": [],
   "source": [
    "columns=['Volume', 'Avg Price', 'Total Sales Value', 'Discount Rate (%)',\n",
    "       'Discount Amount', 'Net Sales Value']\n",
    "df_scaled=pd.DataFrame(data_scaled, columns=columns)"
   ]
  },
  {
   "cell_type": "code",
   "execution_count": 253,
   "id": "f90c38b4-2076-4722-9e5e-43b9785240be",
   "metadata": {},
   "outputs": [
    {
     "data": {
      "text/html": [
       "<div>\n",
       "<style scoped>\n",
       "    .dataframe tbody tr th:only-of-type {\n",
       "        vertical-align: middle;\n",
       "    }\n",
       "\n",
       "    .dataframe tbody tr th {\n",
       "        vertical-align: top;\n",
       "    }\n",
       "\n",
       "    .dataframe thead th {\n",
       "        text-align: right;\n",
       "    }\n",
       "</style>\n",
       "<table border=\"1\" class=\"dataframe\">\n",
       "  <thead>\n",
       "    <tr style=\"text-align: right;\">\n",
       "      <th></th>\n",
       "      <th>Volume</th>\n",
       "      <th>Avg Price</th>\n",
       "      <th>Total Sales Value</th>\n",
       "      <th>Discount Rate (%)</th>\n",
       "      <th>Discount Amount</th>\n",
       "      <th>Net Sales Value</th>\n",
       "    </tr>\n",
       "  </thead>\n",
       "  <tbody>\n",
       "    <tr>\n",
       "      <th>0</th>\n",
       "      <td>0.466667</td>\n",
       "      <td>0.197459</td>\n",
       "      <td>0.923980</td>\n",
       "      <td>0.443589</td>\n",
       "      <td>0.821397</td>\n",
       "      <td>0.893063</td>\n",
       "    </tr>\n",
       "    <tr>\n",
       "      <th>1</th>\n",
       "      <td>0.300000</td>\n",
       "      <td>0.164019</td>\n",
       "      <td>0.513265</td>\n",
       "      <td>0.437294</td>\n",
       "      <td>0.452179</td>\n",
       "      <td>0.496689</td>\n",
       "    </tr>\n",
       "    <tr>\n",
       "      <th>2</th>\n",
       "      <td>0.200000</td>\n",
       "      <td>0.264337</td>\n",
       "      <td>0.572959</td>\n",
       "      <td>0.296909</td>\n",
       "      <td>0.412513</td>\n",
       "      <td>0.567668</td>\n",
       "    </tr>\n",
       "    <tr>\n",
       "      <th>3</th>\n",
       "      <td>0.166667</td>\n",
       "      <td>0.331216</td>\n",
       "      <td>0.613265</td>\n",
       "      <td>0.128636</td>\n",
       "      <td>0.323150</td>\n",
       "      <td>0.624560</td>\n",
       "    </tr>\n",
       "    <tr>\n",
       "      <th>4</th>\n",
       "      <td>0.066667</td>\n",
       "      <td>0.130580</td>\n",
       "      <td>0.121939</td>\n",
       "      <td>0.866747</td>\n",
       "      <td>0.167665</td>\n",
       "      <td>0.109387</td>\n",
       "    </tr>\n",
       "    <tr>\n",
       "      <th>...</th>\n",
       "      <td>...</td>\n",
       "      <td>...</td>\n",
       "      <td>...</td>\n",
       "      <td>...</td>\n",
       "      <td>...</td>\n",
       "      <td>...</td>\n",
       "    </tr>\n",
       "    <tr>\n",
       "      <th>445</th>\n",
       "      <td>0.033333</td>\n",
       "      <td>0.016887</td>\n",
       "      <td>0.011224</td>\n",
       "      <td>0.698576</td>\n",
       "      <td>0.012980</td>\n",
       "      <td>0.010440</td>\n",
       "    </tr>\n",
       "    <tr>\n",
       "      <th>446</th>\n",
       "      <td>0.166667</td>\n",
       "      <td>0.038622</td>\n",
       "      <td>0.077551</td>\n",
       "      <td>0.804107</td>\n",
       "      <td>0.100967</td>\n",
       "      <td>0.070388</td>\n",
       "    </tr>\n",
       "    <tr>\n",
       "      <th>447</th>\n",
       "      <td>0.033333</td>\n",
       "      <td>0.021903</td>\n",
       "      <td>0.014286</td>\n",
       "      <td>0.931472</td>\n",
       "      <td>0.020948</td>\n",
       "      <td>0.012647</td>\n",
       "    </tr>\n",
       "    <tr>\n",
       "      <th>448</th>\n",
       "      <td>0.066667</td>\n",
       "      <td>0.026919</td>\n",
       "      <td>0.027041</td>\n",
       "      <td>0.786488</td>\n",
       "      <td>0.034595</td>\n",
       "      <td>0.024645</td>\n",
       "    </tr>\n",
       "    <tr>\n",
       "      <th>449</th>\n",
       "      <td>0.000000</td>\n",
       "      <td>0.046982</td>\n",
       "      <td>0.013776</td>\n",
       "      <td>0.689073</td>\n",
       "      <td>0.015823</td>\n",
       "      <td>0.012823</td>\n",
       "    </tr>\n",
       "  </tbody>\n",
       "</table>\n",
       "<p>450 rows × 6 columns</p>\n",
       "</div>"
      ],
      "text/plain": [
       "       Volume  Avg Price  Total Sales Value  Discount Rate (%)  \\\n",
       "0    0.466667   0.197459           0.923980           0.443589   \n",
       "1    0.300000   0.164019           0.513265           0.437294   \n",
       "2    0.200000   0.264337           0.572959           0.296909   \n",
       "3    0.166667   0.331216           0.613265           0.128636   \n",
       "4    0.066667   0.130580           0.121939           0.866747   \n",
       "..        ...        ...                ...                ...   \n",
       "445  0.033333   0.016887           0.011224           0.698576   \n",
       "446  0.166667   0.038622           0.077551           0.804107   \n",
       "447  0.033333   0.021903           0.014286           0.931472   \n",
       "448  0.066667   0.026919           0.027041           0.786488   \n",
       "449  0.000000   0.046982           0.013776           0.689073   \n",
       "\n",
       "     Discount Amount  Net Sales Value  \n",
       "0           0.821397         0.893063  \n",
       "1           0.452179         0.496689  \n",
       "2           0.412513         0.567668  \n",
       "3           0.323150         0.624560  \n",
       "4           0.167665         0.109387  \n",
       "..               ...              ...  \n",
       "445         0.012980         0.010440  \n",
       "446         0.100967         0.070388  \n",
       "447         0.020948         0.012647  \n",
       "448         0.034595         0.024645  \n",
       "449         0.015823         0.012823  \n",
       "\n",
       "[450 rows x 6 columns]"
      ]
     },
     "execution_count": 253,
     "metadata": {},
     "output_type": "execute_result"
    }
   ],
   "source": [
    "df_scaled"
   ]
  },
  {
   "cell_type": "markdown",
   "id": "49f2663c-246d-4dc4-90cd-ce3a739e1344",
   "metadata": {},
   "source": [
    "# Conversion of Categorical Data into Dummy Variables"
   ]
  },
  {
   "cell_type": "code",
   "execution_count": 256,
   "id": "f0a93d33-5869-4909-8d4d-059aad1e0fd4",
   "metadata": {},
   "outputs": [
    {
     "data": {
      "text/html": [
       "<div>\n",
       "<style scoped>\n",
       "    .dataframe tbody tr th:only-of-type {\n",
       "        vertical-align: middle;\n",
       "    }\n",
       "\n",
       "    .dataframe tbody tr th {\n",
       "        vertical-align: top;\n",
       "    }\n",
       "\n",
       "    .dataframe thead th {\n",
       "        text-align: right;\n",
       "    }\n",
       "</style>\n",
       "<table border=\"1\" class=\"dataframe\">\n",
       "  <thead>\n",
       "    <tr style=\"text-align: right;\">\n",
       "      <th></th>\n",
       "      <th>Day</th>\n",
       "      <th>SKU</th>\n",
       "      <th>City</th>\n",
       "      <th>BU</th>\n",
       "      <th>Brand</th>\n",
       "      <th>Model</th>\n",
       "    </tr>\n",
       "    <tr>\n",
       "      <th>Date</th>\n",
       "      <th></th>\n",
       "      <th></th>\n",
       "      <th></th>\n",
       "      <th></th>\n",
       "      <th></th>\n",
       "      <th></th>\n",
       "    </tr>\n",
       "  </thead>\n",
       "  <tbody>\n",
       "    <tr>\n",
       "      <th>01-04-2021</th>\n",
       "      <td>Thursday</td>\n",
       "      <td>M01</td>\n",
       "      <td>C</td>\n",
       "      <td>Mobiles</td>\n",
       "      <td>RealU</td>\n",
       "      <td>RU-10</td>\n",
       "    </tr>\n",
       "    <tr>\n",
       "      <th>01-04-2021</th>\n",
       "      <td>Thursday</td>\n",
       "      <td>M02</td>\n",
       "      <td>C</td>\n",
       "      <td>Mobiles</td>\n",
       "      <td>RealU</td>\n",
       "      <td>RU-9 Plus</td>\n",
       "    </tr>\n",
       "    <tr>\n",
       "      <th>01-04-2021</th>\n",
       "      <td>Thursday</td>\n",
       "      <td>M03</td>\n",
       "      <td>C</td>\n",
       "      <td>Mobiles</td>\n",
       "      <td>YouM</td>\n",
       "      <td>YM-99</td>\n",
       "    </tr>\n",
       "    <tr>\n",
       "      <th>01-04-2021</th>\n",
       "      <td>Thursday</td>\n",
       "      <td>M04</td>\n",
       "      <td>C</td>\n",
       "      <td>Mobiles</td>\n",
       "      <td>YouM</td>\n",
       "      <td>YM-99 Plus</td>\n",
       "    </tr>\n",
       "    <tr>\n",
       "      <th>01-04-2021</th>\n",
       "      <td>Thursday</td>\n",
       "      <td>M05</td>\n",
       "      <td>C</td>\n",
       "      <td>Mobiles</td>\n",
       "      <td>YouM</td>\n",
       "      <td>YM-98</td>\n",
       "    </tr>\n",
       "    <tr>\n",
       "      <th>...</th>\n",
       "      <td>...</td>\n",
       "      <td>...</td>\n",
       "      <td>...</td>\n",
       "      <td>...</td>\n",
       "      <td>...</td>\n",
       "      <td>...</td>\n",
       "    </tr>\n",
       "    <tr>\n",
       "      <th>15-04-2021</th>\n",
       "      <td>Thursday</td>\n",
       "      <td>L06</td>\n",
       "      <td>C</td>\n",
       "      <td>Lifestyle</td>\n",
       "      <td>Jeera</td>\n",
       "      <td>M-Casuals</td>\n",
       "    </tr>\n",
       "    <tr>\n",
       "      <th>15-04-2021</th>\n",
       "      <td>Thursday</td>\n",
       "      <td>L07</td>\n",
       "      <td>C</td>\n",
       "      <td>Lifestyle</td>\n",
       "      <td>Viva</td>\n",
       "      <td>W-Western</td>\n",
       "    </tr>\n",
       "    <tr>\n",
       "      <th>15-04-2021</th>\n",
       "      <td>Thursday</td>\n",
       "      <td>L08</td>\n",
       "      <td>C</td>\n",
       "      <td>Lifestyle</td>\n",
       "      <td>Viva</td>\n",
       "      <td>W-Lounge</td>\n",
       "    </tr>\n",
       "    <tr>\n",
       "      <th>15-04-2021</th>\n",
       "      <td>Thursday</td>\n",
       "      <td>L09</td>\n",
       "      <td>C</td>\n",
       "      <td>Lifestyle</td>\n",
       "      <td>Jeera</td>\n",
       "      <td>M-Formals</td>\n",
       "    </tr>\n",
       "    <tr>\n",
       "      <th>15-04-2021</th>\n",
       "      <td>Thursday</td>\n",
       "      <td>L10</td>\n",
       "      <td>C</td>\n",
       "      <td>Lifestyle</td>\n",
       "      <td>Jeera</td>\n",
       "      <td>M-Shoes</td>\n",
       "    </tr>\n",
       "  </tbody>\n",
       "</table>\n",
       "<p>450 rows × 6 columns</p>\n",
       "</div>"
      ],
      "text/plain": [
       "                 Day  SKU City         BU  Brand       Model\n",
       "Date                                                        \n",
       "01-04-2021  Thursday  M01    C    Mobiles  RealU       RU-10\n",
       "01-04-2021  Thursday  M02    C    Mobiles  RealU   RU-9 Plus\n",
       "01-04-2021  Thursday  M03    C    Mobiles   YouM       YM-99\n",
       "01-04-2021  Thursday  M04    C    Mobiles   YouM  YM-99 Plus\n",
       "01-04-2021  Thursday  M05    C    Mobiles   YouM      YM-98 \n",
       "...              ...  ...  ...        ...    ...         ...\n",
       "15-04-2021  Thursday  L06    C  Lifestyle  Jeera   M-Casuals\n",
       "15-04-2021  Thursday  L07    C  Lifestyle   Viva   W-Western\n",
       "15-04-2021  Thursday  L08    C  Lifestyle   Viva    W-Lounge\n",
       "15-04-2021  Thursday  L09    C  Lifestyle  Jeera   M-Formals\n",
       "15-04-2021  Thursday  L10    C  Lifestyle  Jeera     M-Shoes\n",
       "\n",
       "[450 rows x 6 columns]"
      ]
     },
     "execution_count": 256,
     "metadata": {},
     "output_type": "execute_result"
    }
   ],
   "source": [
    "data_2"
   ]
  },
  {
   "cell_type": "code",
   "execution_count": 264,
   "id": "800a758f-c089-4c2e-adb1-f095cd7ab13b",
   "metadata": {},
   "outputs": [],
   "source": [
    "df_encode=pd.get_dummies(data_2, dtype='int')"
   ]
  },
  {
   "cell_type": "code",
   "execution_count": 266,
   "id": "d9f8c3ae-a438-4c29-be9b-5b5164719dcb",
   "metadata": {},
   "outputs": [
    {
     "data": {
      "text/html": [
       "<div>\n",
       "<style scoped>\n",
       "    .dataframe tbody tr th:only-of-type {\n",
       "        vertical-align: middle;\n",
       "    }\n",
       "\n",
       "    .dataframe tbody tr th {\n",
       "        vertical-align: top;\n",
       "    }\n",
       "\n",
       "    .dataframe thead th {\n",
       "        text-align: right;\n",
       "    }\n",
       "</style>\n",
       "<table border=\"1\" class=\"dataframe\">\n",
       "  <thead>\n",
       "    <tr style=\"text-align: right;\">\n",
       "      <th></th>\n",
       "      <th>Day_Friday</th>\n",
       "      <th>Day_Monday</th>\n",
       "      <th>Day_Saturday</th>\n",
       "      <th>Day_Sunday</th>\n",
       "      <th>Day_Thursday</th>\n",
       "      <th>Day_Tuesday</th>\n",
       "      <th>Day_Wednesday</th>\n",
       "      <th>SKU_F01</th>\n",
       "      <th>SKU_F02</th>\n",
       "      <th>SKU_F03</th>\n",
       "      <th>...</th>\n",
       "      <th>Model_Vedic Cream</th>\n",
       "      <th>Model_Vedic Oil</th>\n",
       "      <th>Model_Vedic Shampoo</th>\n",
       "      <th>Model_W-Casuals</th>\n",
       "      <th>Model_W-Inners</th>\n",
       "      <th>Model_W-Lounge</th>\n",
       "      <th>Model_W-Western</th>\n",
       "      <th>Model_YM-98</th>\n",
       "      <th>Model_YM-99</th>\n",
       "      <th>Model_YM-99 Plus</th>\n",
       "    </tr>\n",
       "    <tr>\n",
       "      <th>Date</th>\n",
       "      <th></th>\n",
       "      <th></th>\n",
       "      <th></th>\n",
       "      <th></th>\n",
       "      <th></th>\n",
       "      <th></th>\n",
       "      <th></th>\n",
       "      <th></th>\n",
       "      <th></th>\n",
       "      <th></th>\n",
       "      <th></th>\n",
       "      <th></th>\n",
       "      <th></th>\n",
       "      <th></th>\n",
       "      <th></th>\n",
       "      <th></th>\n",
       "      <th></th>\n",
       "      <th></th>\n",
       "      <th></th>\n",
       "      <th></th>\n",
       "      <th></th>\n",
       "    </tr>\n",
       "  </thead>\n",
       "  <tbody>\n",
       "    <tr>\n",
       "      <th>01-04-2021</th>\n",
       "      <td>0</td>\n",
       "      <td>0</td>\n",
       "      <td>0</td>\n",
       "      <td>0</td>\n",
       "      <td>1</td>\n",
       "      <td>0</td>\n",
       "      <td>0</td>\n",
       "      <td>0</td>\n",
       "      <td>0</td>\n",
       "      <td>0</td>\n",
       "      <td>...</td>\n",
       "      <td>0</td>\n",
       "      <td>0</td>\n",
       "      <td>0</td>\n",
       "      <td>0</td>\n",
       "      <td>0</td>\n",
       "      <td>0</td>\n",
       "      <td>0</td>\n",
       "      <td>0</td>\n",
       "      <td>0</td>\n",
       "      <td>0</td>\n",
       "    </tr>\n",
       "    <tr>\n",
       "      <th>01-04-2021</th>\n",
       "      <td>0</td>\n",
       "      <td>0</td>\n",
       "      <td>0</td>\n",
       "      <td>0</td>\n",
       "      <td>1</td>\n",
       "      <td>0</td>\n",
       "      <td>0</td>\n",
       "      <td>0</td>\n",
       "      <td>0</td>\n",
       "      <td>0</td>\n",
       "      <td>...</td>\n",
       "      <td>0</td>\n",
       "      <td>0</td>\n",
       "      <td>0</td>\n",
       "      <td>0</td>\n",
       "      <td>0</td>\n",
       "      <td>0</td>\n",
       "      <td>0</td>\n",
       "      <td>0</td>\n",
       "      <td>0</td>\n",
       "      <td>0</td>\n",
       "    </tr>\n",
       "    <tr>\n",
       "      <th>01-04-2021</th>\n",
       "      <td>0</td>\n",
       "      <td>0</td>\n",
       "      <td>0</td>\n",
       "      <td>0</td>\n",
       "      <td>1</td>\n",
       "      <td>0</td>\n",
       "      <td>0</td>\n",
       "      <td>0</td>\n",
       "      <td>0</td>\n",
       "      <td>0</td>\n",
       "      <td>...</td>\n",
       "      <td>0</td>\n",
       "      <td>0</td>\n",
       "      <td>0</td>\n",
       "      <td>0</td>\n",
       "      <td>0</td>\n",
       "      <td>0</td>\n",
       "      <td>0</td>\n",
       "      <td>0</td>\n",
       "      <td>1</td>\n",
       "      <td>0</td>\n",
       "    </tr>\n",
       "    <tr>\n",
       "      <th>01-04-2021</th>\n",
       "      <td>0</td>\n",
       "      <td>0</td>\n",
       "      <td>0</td>\n",
       "      <td>0</td>\n",
       "      <td>1</td>\n",
       "      <td>0</td>\n",
       "      <td>0</td>\n",
       "      <td>0</td>\n",
       "      <td>0</td>\n",
       "      <td>0</td>\n",
       "      <td>...</td>\n",
       "      <td>0</td>\n",
       "      <td>0</td>\n",
       "      <td>0</td>\n",
       "      <td>0</td>\n",
       "      <td>0</td>\n",
       "      <td>0</td>\n",
       "      <td>0</td>\n",
       "      <td>0</td>\n",
       "      <td>0</td>\n",
       "      <td>1</td>\n",
       "    </tr>\n",
       "    <tr>\n",
       "      <th>01-04-2021</th>\n",
       "      <td>0</td>\n",
       "      <td>0</td>\n",
       "      <td>0</td>\n",
       "      <td>0</td>\n",
       "      <td>1</td>\n",
       "      <td>0</td>\n",
       "      <td>0</td>\n",
       "      <td>0</td>\n",
       "      <td>0</td>\n",
       "      <td>0</td>\n",
       "      <td>...</td>\n",
       "      <td>0</td>\n",
       "      <td>0</td>\n",
       "      <td>0</td>\n",
       "      <td>0</td>\n",
       "      <td>0</td>\n",
       "      <td>0</td>\n",
       "      <td>0</td>\n",
       "      <td>1</td>\n",
       "      <td>0</td>\n",
       "      <td>0</td>\n",
       "    </tr>\n",
       "    <tr>\n",
       "      <th>...</th>\n",
       "      <td>...</td>\n",
       "      <td>...</td>\n",
       "      <td>...</td>\n",
       "      <td>...</td>\n",
       "      <td>...</td>\n",
       "      <td>...</td>\n",
       "      <td>...</td>\n",
       "      <td>...</td>\n",
       "      <td>...</td>\n",
       "      <td>...</td>\n",
       "      <td>...</td>\n",
       "      <td>...</td>\n",
       "      <td>...</td>\n",
       "      <td>...</td>\n",
       "      <td>...</td>\n",
       "      <td>...</td>\n",
       "      <td>...</td>\n",
       "      <td>...</td>\n",
       "      <td>...</td>\n",
       "      <td>...</td>\n",
       "      <td>...</td>\n",
       "    </tr>\n",
       "    <tr>\n",
       "      <th>15-04-2021</th>\n",
       "      <td>0</td>\n",
       "      <td>0</td>\n",
       "      <td>0</td>\n",
       "      <td>0</td>\n",
       "      <td>1</td>\n",
       "      <td>0</td>\n",
       "      <td>0</td>\n",
       "      <td>0</td>\n",
       "      <td>0</td>\n",
       "      <td>0</td>\n",
       "      <td>...</td>\n",
       "      <td>0</td>\n",
       "      <td>0</td>\n",
       "      <td>0</td>\n",
       "      <td>0</td>\n",
       "      <td>0</td>\n",
       "      <td>0</td>\n",
       "      <td>0</td>\n",
       "      <td>0</td>\n",
       "      <td>0</td>\n",
       "      <td>0</td>\n",
       "    </tr>\n",
       "    <tr>\n",
       "      <th>15-04-2021</th>\n",
       "      <td>0</td>\n",
       "      <td>0</td>\n",
       "      <td>0</td>\n",
       "      <td>0</td>\n",
       "      <td>1</td>\n",
       "      <td>0</td>\n",
       "      <td>0</td>\n",
       "      <td>0</td>\n",
       "      <td>0</td>\n",
       "      <td>0</td>\n",
       "      <td>...</td>\n",
       "      <td>0</td>\n",
       "      <td>0</td>\n",
       "      <td>0</td>\n",
       "      <td>0</td>\n",
       "      <td>0</td>\n",
       "      <td>0</td>\n",
       "      <td>1</td>\n",
       "      <td>0</td>\n",
       "      <td>0</td>\n",
       "      <td>0</td>\n",
       "    </tr>\n",
       "    <tr>\n",
       "      <th>15-04-2021</th>\n",
       "      <td>0</td>\n",
       "      <td>0</td>\n",
       "      <td>0</td>\n",
       "      <td>0</td>\n",
       "      <td>1</td>\n",
       "      <td>0</td>\n",
       "      <td>0</td>\n",
       "      <td>0</td>\n",
       "      <td>0</td>\n",
       "      <td>0</td>\n",
       "      <td>...</td>\n",
       "      <td>0</td>\n",
       "      <td>0</td>\n",
       "      <td>0</td>\n",
       "      <td>0</td>\n",
       "      <td>0</td>\n",
       "      <td>1</td>\n",
       "      <td>0</td>\n",
       "      <td>0</td>\n",
       "      <td>0</td>\n",
       "      <td>0</td>\n",
       "    </tr>\n",
       "    <tr>\n",
       "      <th>15-04-2021</th>\n",
       "      <td>0</td>\n",
       "      <td>0</td>\n",
       "      <td>0</td>\n",
       "      <td>0</td>\n",
       "      <td>1</td>\n",
       "      <td>0</td>\n",
       "      <td>0</td>\n",
       "      <td>0</td>\n",
       "      <td>0</td>\n",
       "      <td>0</td>\n",
       "      <td>...</td>\n",
       "      <td>0</td>\n",
       "      <td>0</td>\n",
       "      <td>0</td>\n",
       "      <td>0</td>\n",
       "      <td>0</td>\n",
       "      <td>0</td>\n",
       "      <td>0</td>\n",
       "      <td>0</td>\n",
       "      <td>0</td>\n",
       "      <td>0</td>\n",
       "    </tr>\n",
       "    <tr>\n",
       "      <th>15-04-2021</th>\n",
       "      <td>0</td>\n",
       "      <td>0</td>\n",
       "      <td>0</td>\n",
       "      <td>0</td>\n",
       "      <td>1</td>\n",
       "      <td>0</td>\n",
       "      <td>0</td>\n",
       "      <td>0</td>\n",
       "      <td>0</td>\n",
       "      <td>0</td>\n",
       "      <td>...</td>\n",
       "      <td>0</td>\n",
       "      <td>0</td>\n",
       "      <td>0</td>\n",
       "      <td>0</td>\n",
       "      <td>0</td>\n",
       "      <td>0</td>\n",
       "      <td>0</td>\n",
       "      <td>0</td>\n",
       "      <td>0</td>\n",
       "      <td>0</td>\n",
       "    </tr>\n",
       "  </tbody>\n",
       "</table>\n",
       "<p>450 rows × 80 columns</p>\n",
       "</div>"
      ],
      "text/plain": [
       "            Day_Friday  Day_Monday  Day_Saturday  Day_Sunday  Day_Thursday  \\\n",
       "Date                                                                         \n",
       "01-04-2021           0           0             0           0             1   \n",
       "01-04-2021           0           0             0           0             1   \n",
       "01-04-2021           0           0             0           0             1   \n",
       "01-04-2021           0           0             0           0             1   \n",
       "01-04-2021           0           0             0           0             1   \n",
       "...                ...         ...           ...         ...           ...   \n",
       "15-04-2021           0           0             0           0             1   \n",
       "15-04-2021           0           0             0           0             1   \n",
       "15-04-2021           0           0             0           0             1   \n",
       "15-04-2021           0           0             0           0             1   \n",
       "15-04-2021           0           0             0           0             1   \n",
       "\n",
       "            Day_Tuesday  Day_Wednesday  SKU_F01  SKU_F02  SKU_F03  ...  \\\n",
       "Date                                                               ...   \n",
       "01-04-2021            0              0        0        0        0  ...   \n",
       "01-04-2021            0              0        0        0        0  ...   \n",
       "01-04-2021            0              0        0        0        0  ...   \n",
       "01-04-2021            0              0        0        0        0  ...   \n",
       "01-04-2021            0              0        0        0        0  ...   \n",
       "...                 ...            ...      ...      ...      ...  ...   \n",
       "15-04-2021            0              0        0        0        0  ...   \n",
       "15-04-2021            0              0        0        0        0  ...   \n",
       "15-04-2021            0              0        0        0        0  ...   \n",
       "15-04-2021            0              0        0        0        0  ...   \n",
       "15-04-2021            0              0        0        0        0  ...   \n",
       "\n",
       "            Model_Vedic Cream  Model_Vedic Oil  Model_Vedic Shampoo  \\\n",
       "Date                                                                  \n",
       "01-04-2021                  0                0                    0   \n",
       "01-04-2021                  0                0                    0   \n",
       "01-04-2021                  0                0                    0   \n",
       "01-04-2021                  0                0                    0   \n",
       "01-04-2021                  0                0                    0   \n",
       "...                       ...              ...                  ...   \n",
       "15-04-2021                  0                0                    0   \n",
       "15-04-2021                  0                0                    0   \n",
       "15-04-2021                  0                0                    0   \n",
       "15-04-2021                  0                0                    0   \n",
       "15-04-2021                  0                0                    0   \n",
       "\n",
       "            Model_W-Casuals  Model_W-Inners  Model_W-Lounge  Model_W-Western  \\\n",
       "Date                                                                           \n",
       "01-04-2021                0               0               0                0   \n",
       "01-04-2021                0               0               0                0   \n",
       "01-04-2021                0               0               0                0   \n",
       "01-04-2021                0               0               0                0   \n",
       "01-04-2021                0               0               0                0   \n",
       "...                     ...             ...             ...              ...   \n",
       "15-04-2021                0               0               0                0   \n",
       "15-04-2021                0               0               0                1   \n",
       "15-04-2021                0               0               1                0   \n",
       "15-04-2021                0               0               0                0   \n",
       "15-04-2021                0               0               0                0   \n",
       "\n",
       "            Model_YM-98   Model_YM-99  Model_YM-99 Plus  \n",
       "Date                                                     \n",
       "01-04-2021             0            0                 0  \n",
       "01-04-2021             0            0                 0  \n",
       "01-04-2021             0            1                 0  \n",
       "01-04-2021             0            0                 1  \n",
       "01-04-2021             1            0                 0  \n",
       "...                  ...          ...               ...  \n",
       "15-04-2021             0            0                 0  \n",
       "15-04-2021             0            0                 0  \n",
       "15-04-2021             0            0                 0  \n",
       "15-04-2021             0            0                 0  \n",
       "15-04-2021             0            0                 0  \n",
       "\n",
       "[450 rows x 80 columns]"
      ]
     },
     "execution_count": 266,
     "metadata": {},
     "output_type": "execute_result"
    }
   ],
   "source": [
    "df_encode"
   ]
  },
  {
   "cell_type": "markdown",
   "id": "512005c8-ff7c-429d-85bc-6c7f02a92558",
   "metadata": {},
   "source": [
    "# Summary"
   ]
  },
  {
   "cell_type": "markdown",
   "id": "5909a093-3f62-43a9-a0d5-3c9739e6812e",
   "metadata": {},
   "source": [
    "## From the above descriptive analysis we can see that,\n",
    " 1. By observing the comparison between the mean and median we understood that the columns (Volume and discount) were right-skewed as mean > median and all the other numerical columns were left-skewed (mean < median) \n",
    " \n",
    " 2. There is high variability in average price, total sales value, and net Sales Value indicating diverse pricing and sales patterns.\n",
    " \n",
    " 3. Modes for \"Volume,\" \"Discount Amount,\" and \"Net Sales Value\" are considerably lower than their respective means, showing that smaller transactions or lower values are more frequent in the dataset.  "
   ]
  },
  {
   "cell_type": "markdown",
   "id": "3ff774fe-e830-4209-81f7-993ddfc01e83",
   "metadata": {},
   "source": [
    "## From the above visualization we can see that,\n",
    "1. Made the histograms of all the numerical columns and it showed us that all the numerical columns(except Discount Rate (%)) were extremely right\n",
    "skewed and the Discount rate was left skewed which indicated outliers presence.\n",
    "2. After the histogram revealed outlier presence, we made a box plot of the following numerical columns and found that Avg Price had only 4 outliers, and all other columns had more than four/ multiple outliers.\n",
    "3. Bar plots of categorical columns revealed, that Thursday had the highest sale count compared to other days, also SKU, BU, and model sales/unit count are distributed equally, from Brands chart we got to know the top 3 brands are jeera, gear, viva also saw the distribution of brands according to BU and model according to the brands, also the sales are going to only one city 'C'"
   ]
  },
  {
   "cell_type": "markdown",
   "id": "318b3ce6-08df-443a-a334-3280bad448f6",
   "metadata": {},
   "source": [
    "## Importance of the standardization and encoding \n",
    "1. Standardization helps us to scale the data in one range, here we used the normalization(MinMaxScaler) and it ranges the data set between 0 - 1 and\n",
    "by this, the weight of the data values comes in one range and it helps the machine to learn the data and not get biased.\n",
    "2. Similarly the encoding helps to convert the categorical columns into numerical columns so that machine can read and understand the data.   "
   ]
  },
  {
   "cell_type": "code",
   "execution_count": null,
   "id": "57dd395b-5630-4e81-8d3b-a9567d34b691",
   "metadata": {},
   "outputs": [],
   "source": []
  }
 ],
 "metadata": {
  "kernelspec": {
   "display_name": "Python 3 (ipykernel)",
   "language": "python",
   "name": "python3"
  },
  "language_info": {
   "codemirror_mode": {
    "name": "ipython",
    "version": 3
   },
   "file_extension": ".py",
   "mimetype": "text/x-python",
   "name": "python",
   "nbconvert_exporter": "python",
   "pygments_lexer": "ipython3",
   "version": "3.12.7"
  }
 },
 "nbformat": 4,
 "nbformat_minor": 5
}
