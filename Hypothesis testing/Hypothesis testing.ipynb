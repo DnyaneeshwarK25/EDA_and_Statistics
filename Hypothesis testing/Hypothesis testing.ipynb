{
 "cells": [
  {
   "cell_type": "markdown",
   "id": "b74c96ca-0213-4700-be83-dcc152c00c10",
   "metadata": {},
   "source": [
    "# HYPOTHESIS TESTING"
   ]
  },
  {
   "cell_type": "markdown",
   "id": "25025666-1f06-4e55-871f-4bf2abe4d193",
   "metadata": {},
   "source": [
    "## import dependencies"
   ]
  },
  {
   "cell_type": "code",
   "execution_count": 44,
   "id": "faf7f05f-a988-4956-ab23-a550b13b5fb2",
   "metadata": {},
   "outputs": [],
   "source": [
    "import pandas as pd\n",
    "import numpy as np"
   ]
  },
  {
   "cell_type": "markdown",
   "id": "d9fcae85-68c8-41ef-8211-0c6fda07626b",
   "metadata": {},
   "source": [
    "### Here the data provided is,\n",
    "- •\tThe theoretical weekly operating cost model: W = $1,000 + $5X\n",
    "- •\tSample of 25 restaurants with a mean weekly cost of Rs. 3,050\n",
    "- •\tNumber of units produced in a week (X) follows a normal distribution with a mean (μ) of 600 units and a standard deviation (σ)     of 25 units\n"
   ]
  },
  {
   "cell_type": "markdown",
   "id": "fa63f4c2-cb7f-40a3-afb4-14cfab61198a",
   "metadata": {},
   "source": [
    "### Objective:\n",
    "- To investigate the restaurant owners' claim about the increase in weekly operating costs using hypothesis testing.\n"
   ]
  },
  {
   "cell_type": "markdown",
   "id": "2e92d5de-2b3b-40b8-a985-2ca812205627",
   "metadata": {},
   "source": [
    "## 1. State the Hypotheses statement:"
   ]
  },
  {
   "cell_type": "markdown",
   "id": "cb1f3ac4-8d51-42b3-b0ff-4c3098f6c8ff",
   "metadata": {},
   "source": [
    "## Hypothesis statement is,\n",
    "### Null hypothesis (H0):there is no increase in  weekly cost according to the cost model (𝜇 = 1000+5x600 = 4000) \n",
    "### i.e. 𝜇 = 4000\n",
    "### Alternate hypothesis (H1): there is increase in weekly cost according to the cost model (𝜇 = 1000+5x600 = 4000)\n",
    "### i.e. 𝜇 ≠ 4000"
   ]
  },
  {
   "cell_type": "markdown",
   "id": "0aa322a5-4a8c-4161-84cb-77752acee6dd",
   "metadata": {},
   "source": [
    "## 2. Calculate the Test Statistic:"
   ]
  },
  {
   "cell_type": "code",
   "execution_count": 50,
   "id": "a301a327-03a6-4622-8a18-67eb639e73a9",
   "metadata": {},
   "outputs": [],
   "source": [
    "sample_size=25 \n",
    "s_m = 3050 # sample mean (given)\n",
    "p_m = 4000 # population mean (1000+5x = 1000+5x600 = 4000)\n",
    "std = 125 # standard deviation of population (5x = 5xn = 5x25 = 125)\n",
    "n = sample_size"
   ]
  },
  {
   "cell_type": "markdown",
   "id": "1f3e10de-0931-465a-b361-38b0461cfe2a",
   "metadata": {},
   "source": [
    "### steps to calculate the test statistics\n",
    "- 1. Find  z , z= sample mean-populaion mean/standard deviation/square root of n\n",
    "  2. Find p-value, p-value is nothing but probability of z which we can find using z table with z value"
   ]
  },
  {
   "cell_type": "code",
   "execution_count": 52,
   "id": "5b45de36-34b5-43e2-80ef-cb090ee53741",
   "metadata": {},
   "outputs": [],
   "source": [
    "z = (s_m-p_m)/(std/np.sqrt(n)) # step 1 from above"
   ]
  },
  {
   "cell_type": "code",
   "execution_count": 53,
   "id": "296346e8-92fc-4883-b068-9b9517123bb1",
   "metadata": {},
   "outputs": [
    {
     "data": {
      "text/plain": [
       "-38.0"
      ]
     },
     "execution_count": 53,
     "metadata": {},
     "output_type": "execute_result"
    }
   ],
   "source": [
    "z"
   ]
  },
  {
   "cell_type": "code",
   "execution_count": 54,
   "id": "5ad63baa-46ed-49db-83cf-2121998c06c3",
   "metadata": {},
   "outputs": [
    {
     "data": {
      "text/plain": [
       "0.0"
      ]
     },
     "execution_count": 54,
     "metadata": {},
     "output_type": "execute_result"
    }
   ],
   "source": [
    "from scipy.stats import norm\n",
    "p_value= norm.cdf(z) # step 2 from above\n",
    "p_value"
   ]
  },
  {
   "cell_type": "markdown",
   "id": "408abea4-db00-4d69-b657-bb8afa85f246",
   "metadata": {},
   "source": [
    "## 3. Determine the Critical Value:"
   ]
  },
  {
   "cell_type": "markdown",
   "id": "bc91dae2-254e-4374-8957-158a786421b5",
   "metadata": {},
   "source": [
    "### we determine by checking if p-value < alpha, if true reject null hypothesis if false we failed to reject null hypothesis"
   ]
  },
  {
   "cell_type": "code",
   "execution_count": 65,
   "id": "9f72d6cb-885d-4341-921f-34d53b45ec99",
   "metadata": {},
   "outputs": [
    {
     "name": "stdout",
     "output_type": "stream",
     "text": [
      "critical_value_upper : 1.959963984540054\n",
      "critical_value_lower : -1.9599639845400545\n"
     ]
    }
   ],
   "source": [
    "alpha=0.05\n",
    "\n",
    "# Critical values for two-tailed test at alpha = 0.05\n",
    "critical_value_upper = norm.ppf(1 - alpha / 2)\n",
    "critical_value_lower = norm.ppf(alpha / 2)\n",
    "\n",
    "# printing value\n",
    "print('critical_value_upper :',critical_value_upper)\n",
    "print('critical_value_lower :',critical_value_lower)"
   ]
  },
  {
   "cell_type": "markdown",
   "id": "3dfca34a-e294-450a-8a3a-de05336575d3",
   "metadata": {},
   "source": [
    "## 4. Make a Decision:"
   ]
  },
  {
   "cell_type": "code",
   "execution_count": null,
   "id": "be4d8f45-8aca-4fdb-b8d1-c5b0d4745151",
   "metadata": {},
   "outputs": [],
   "source": [
    "if p_value<alpha: # checks if to reject/not to reject the null hypothesis\n",
    "    print('As the p-value ',p_value,'is less than alpha, we reject null hypothesis')\n",
    "else:\n",
    "    print('As the p-value',p_value,' is not less than alpha, we failed to reject null hypothesis')"
   ]
  },
  {
   "cell_type": "markdown",
   "id": "257c2784-67a8-4ff8-b969-631194003af1",
   "metadata": {},
   "source": [
    "## 5. Conclusion:"
   ]
  },
  {
   "cell_type": "markdown",
   "id": "b171b388-2360-4d75-9d6b-de47ecdf708f",
   "metadata": {},
   "source": [
    "### From the above hypothesis test we observed weekly costs are significantly different from the theoretical model. \n",
    "### We got a strong evidence for the claim of the restaurant owner that the weekly costs are higher or lower than the cost model. "
   ]
  },
  {
   "cell_type": "code",
   "execution_count": null,
   "id": "c74097eb-1967-4c91-a36b-f89c250005d4",
   "metadata": {},
   "outputs": [],
   "source": []
  }
 ],
 "metadata": {
  "kernelspec": {
   "display_name": "Python 3 (ipykernel)",
   "language": "python",
   "name": "python3"
  },
  "language_info": {
   "codemirror_mode": {
    "name": "ipython",
    "version": 3
   },
   "file_extension": ".py",
   "mimetype": "text/x-python",
   "name": "python",
   "nbconvert_exporter": "python",
   "pygments_lexer": "ipython3",
   "version": "3.12.7"
  }
 },
 "nbformat": 4,
 "nbformat_minor": 5
}
