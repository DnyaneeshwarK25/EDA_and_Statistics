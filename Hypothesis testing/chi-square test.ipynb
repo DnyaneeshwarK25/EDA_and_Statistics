{
 "cells": [
  {
   "cell_type": "markdown",
   "id": "86cf3ae9-79be-4b6a-822b-0009ddd07e39",
   "metadata": {},
   "source": [
    "# CHI-SQUARE TEST"
   ]
  },
  {
   "cell_type": "markdown",
   "id": "aba96fab-4f75-4ea3-87d7-396b5f91badf",
   "metadata": {},
   "source": [
    "## import dependencies"
   ]
  },
  {
   "cell_type": "code",
   "execution_count": 4,
   "id": "74493b59-3d40-47a6-81c2-84e4c2304cbf",
   "metadata": {},
   "outputs": [],
   "source": [
    "import numpy as np\n",
    "import pandas as pd"
   ]
  },
  {
   "attachments": {
    "427f26fa-7a1f-44de-a938-45a040706f57.png": {
     "image/png": "[encoded data removed]"
    }
   },
   "cell_type": "markdown",
   "id": "ab6c9ee8-1a4f-451e-aeb3-d87f8fbd62d3",
   "metadata": {},
   "source": [
    "## Data Provided:\n",
    "The data is summarized in a contingency table showing the counts of customers in each satisfaction level for both types of devices:\n",
    "![image.png](attachment:427f26fa-7a1f-44de-a938-45a040706f57.png)"
   ]
  },
  {
   "cell_type": "markdown",
   "id": "7c27f29e-87c9-4da0-808f-3f2f44732511",
   "metadata": {},
   "source": [
    "## Objective:\n",
    "To use the Chi-Square test for independence to determine if there's a significant association between the type of smart home device purchased (Smart Thermostats vs. Smart Lights) and the customer satisfaction level.\n"
   ]
  },
  {
   "cell_type": "markdown",
   "id": "ad3c8251-ddf2-4495-86f2-7ae7e743b0cc",
   "metadata": {
    "jp-MarkdownHeadingCollapsed": true
   },
   "source": [
    "## 1. State the Hypotheses statement:"
   ]
  },
  {
   "cell_type": "markdown",
   "id": "aeab77c8-217c-46bc-85fa-802451389d54",
   "metadata": {},
   "source": [
    "## Hypothesis statement is,\n",
    "### Null hypothesis (H0):the variables are independent, there is no relationship between the two categorical variables. Knowing the value of one variable does not help to predict the value of the other variable\n",
    "### Alternate hypothesis (H1):the variables are dependent, there is a relationship between the two categorical variables. Knowing the value of one variable helps to predict the value of the other variable"
   ]
  },
  {
   "cell_type": "markdown",
   "id": "0692a476-a7fb-4b31-a89c-2cb3dcdb461d",
   "metadata": {},
   "source": [
    "## 2. Compute the Chi-Square Statistic:"
   ]
  },
  {
   "cell_type": "code",
   "execution_count": 52,
   "id": "f4fcffeb-c03c-4c27-91f1-3488c905d28c",
   "metadata": {},
   "outputs": [],
   "source": [
    "index=['Very Satisfied','Satisfied','Neutral','Unsatisfied','Very Unsatisfied'] # list of index values\n",
    "data=pd.DataFrame(data={'Smart Thermostat':[50,80,60,30,20], # creates dataframe \n",
    "                        'Smart Light':[70,100,90,50,50]},index=index)"
   ]
  },
  {
   "cell_type": "code",
   "execution_count": 54,
   "id": "bca00226-2016-4b26-b2b9-53b793c0b1f1",
   "metadata": {},
   "outputs": [
    {
     "data": {
      "text/html": [
       "<div>\n",
       "<style scoped>\n",
       "    .dataframe tbody tr th:only-of-type {\n",
       "        vertical-align: middle;\n",
       "    }\n",
       "\n",
       "    .dataframe tbody tr th {\n",
       "        vertical-align: top;\n",
       "    }\n",
       "\n",
       "    .dataframe thead th {\n",
       "        text-align: right;\n",
       "    }\n",
       "</style>\n",
       "<table border=\"1\" class=\"dataframe\">\n",
       "  <thead>\n",
       "    <tr style=\"text-align: right;\">\n",
       "      <th></th>\n",
       "      <th>Smart Thermostat</th>\n",
       "      <th>Smart Light</th>\n",
       "    </tr>\n",
       "  </thead>\n",
       "  <tbody>\n",
       "    <tr>\n",
       "      <th>Very Satisfied</th>\n",
       "      <td>50</td>\n",
       "      <td>70</td>\n",
       "    </tr>\n",
       "    <tr>\n",
       "      <th>Satisfied</th>\n",
       "      <td>80</td>\n",
       "      <td>100</td>\n",
       "    </tr>\n",
       "    <tr>\n",
       "      <th>Neutral</th>\n",
       "      <td>60</td>\n",
       "      <td>90</td>\n",
       "    </tr>\n",
       "    <tr>\n",
       "      <th>Unsatisfied</th>\n",
       "      <td>30</td>\n",
       "      <td>50</td>\n",
       "    </tr>\n",
       "    <tr>\n",
       "      <th>Very Unsatisfied</th>\n",
       "      <td>20</td>\n",
       "      <td>50</td>\n",
       "    </tr>\n",
       "  </tbody>\n",
       "</table>\n",
       "</div>"
      ],
      "text/plain": [
       "                  Smart Thermostat  Smart Light\n",
       "Very Satisfied                  50           70\n",
       "Satisfied                       80          100\n",
       "Neutral                         60           90\n",
       "Unsatisfied                     30           50\n",
       "Very Unsatisfied                20           50"
      ]
     },
     "execution_count": 54,
     "metadata": {},
     "output_type": "execute_result"
    }
   ],
   "source": [
    "data"
   ]
  },
  {
   "cell_type": "code",
   "execution_count": 56,
   "id": "e967b505-9301-457d-a98a-ae412d274d47",
   "metadata": {},
   "outputs": [],
   "source": [
    "from scipy import stats"
   ]
  },
  {
   "cell_type": "code",
   "execution_count": 58,
   "id": "b9f97d58-6b1a-4168-bf5a-690d937e7fd8",
   "metadata": {},
   "outputs": [
    {
     "name": "stdout",
     "output_type": "stream",
     "text": [
      "Chi-Square Statistic: 5.638227513227513\n",
      "P-Value: 0.22784371130697179\n"
     ]
    }
   ],
   "source": [
    "chi2, p_value, dof, expected=stats.chi2_contingency(data) \n",
    "print(\"Chi-Square Statistic:\", chi2)\n",
    "print(\"P-Value:\", p_value)\n"
   ]
  },
  {
   "cell_type": "markdown",
   "id": "01c803c1-6adb-4e0e-a1d2-6523d21dc764",
   "metadata": {},
   "source": [
    "## 3. Determine the Critical Value:"
   ]
  },
  {
   "cell_type": "code",
   "execution_count": 67,
   "id": "a8c18cc5-a699-489b-9102-3d58c0cbf957",
   "metadata": {},
   "outputs": [
    {
     "data": {
      "text/plain": [
       "9.487729036781154"
      ]
     },
     "execution_count": 67,
     "metadata": {},
     "output_type": "execute_result"
    }
   ],
   "source": [
    "# Calculate critical value\n",
    "alpha = 0.05\n",
    "critical_value = stats.chi2.ppf(1 - alpha, dof)\n",
    "critical_value"
   ]
  },
  {
   "cell_type": "markdown",
   "id": "0b9c969b-a868-4881-9503-2b27246dfbd0",
   "metadata": {},
   "source": [
    "## 4. Make a Decision:"
   ]
  },
  {
   "cell_type": "code",
   "execution_count": 64,
   "id": "d8259dbb-5bae-4056-9180-ce08df32aea0",
   "metadata": {},
   "outputs": [
    {
     "name": "stdout",
     "output_type": "stream",
     "text": [
      "As the p-value 0.22784371130697179  is not less than alpha, we failed to reject null hypothesis\n"
     ]
    }
   ],
   "source": [
    "if p_value<alpha: # checks if to reject/not to reject the null hypothesis\n",
    "    print('As the p-value ',p_value,'is less than alpha, we reject null hypothesis')\n",
    "else:\n",
    "    print('As the p-value',p_value,' is not less than alpha, we failed to reject null hypothesis')"
   ]
  },
  {
   "cell_type": "markdown",
   "id": "fe489bab-2292-49c8-a58e-6c8a56d2d7fd",
   "metadata": {},
   "source": [
    "## Conclusion\n",
    "### From the above Chi-square test, we observed there's no significant association between the type of smart home device purchased (Smart Thermostats vs. Smart Lights) and the customer satisfaction level."
   ]
  },
  {
   "cell_type": "code",
   "execution_count": null,
   "id": "c7a4375b-9f57-4fda-9ae9-9f629f510a4f",
   "metadata": {},
   "outputs": [],
   "source": []
  }
 ],
 "metadata": {
  "kernelspec": {
   "display_name": "Python 3 (ipykernel)",
   "language": "python",
   "name": "python3"
  },
  "language_info": {
   "codemirror_mode": {
    "name": "ipython",
    "version": 3
   },
   "file_extension": ".py",
   "mimetype": "text/x-python",
   "name": "python",
   "nbconvert_exporter": "python",
   "pygments_lexer": "ipython3",
   "version": "3.12.7"
  }
 },
 "nbformat": 4,
 "nbformat_minor": 5
}
