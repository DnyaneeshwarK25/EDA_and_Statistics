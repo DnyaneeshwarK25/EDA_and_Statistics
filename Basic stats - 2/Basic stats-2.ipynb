{
 "cells": [
  {
   "cell_type": "markdown",
   "id": "3126a7a3-1938-4bdc-ba27-d6c98359a628",
   "metadata": {},
   "source": [
    "# Estimation And Confidence Intervals"
   ]
  },
  {
   "cell_type": "markdown",
   "id": "7a6e16f9-5351-4cb7-a0b9-bb7496936277",
   "metadata": {},
   "source": [
    "## --> Import dependencies"
   ]
  },
  {
   "cell_type": "code",
   "execution_count": 218,
   "id": "b4246e4f-6c16-4fab-8fbf-0765fe5cacfd",
   "metadata": {},
   "outputs": [],
   "source": [
    "import numpy as np\n",
    "import pandas as pd\n",
    "import matplotlib.pyplot as plt\n",
    "import seaborn as sns"
   ]
  },
  {
   "cell_type": "code",
   "execution_count": 219,
   "id": "8b4da527-1b55-4ca7-8645-aec7a0558be1",
   "metadata": {},
   "outputs": [],
   "source": [
    "data=[1.13, 1.55, 1.43, 0.92, 1.25, 1.36, 1.32, 0.85, 1.07, 1.48, 1.20, 1.33, 1.18, 1.22, 1.29]\n",
    "df=pd.DataFrame(data,index=range(1,len(data)+1),columns=['Print-heads'])"
   ]
  },
  {
   "cell_type": "code",
   "execution_count": 220,
   "id": "d21003cf-717b-492f-8862-aa751e058404",
   "metadata": {},
   "outputs": [
    {
     "data": {
      "text/html": [
       "<div>\n",
       "<style scoped>\n",
       "    .dataframe tbody tr th:only-of-type {\n",
       "        vertical-align: middle;\n",
       "    }\n",
       "\n",
       "    .dataframe tbody tr th {\n",
       "        vertical-align: top;\n",
       "    }\n",
       "\n",
       "    .dataframe thead th {\n",
       "        text-align: right;\n",
       "    }\n",
       "</style>\n",
       "<table border=\"1\" class=\"dataframe\">\n",
       "  <thead>\n",
       "    <tr style=\"text-align: right;\">\n",
       "      <th></th>\n",
       "      <th>Print-heads</th>\n",
       "    </tr>\n",
       "  </thead>\n",
       "  <tbody>\n",
       "    <tr>\n",
       "      <th>1</th>\n",
       "      <td>1.13</td>\n",
       "    </tr>\n",
       "    <tr>\n",
       "      <th>2</th>\n",
       "      <td>1.55</td>\n",
       "    </tr>\n",
       "    <tr>\n",
       "      <th>3</th>\n",
       "      <td>1.43</td>\n",
       "    </tr>\n",
       "    <tr>\n",
       "      <th>4</th>\n",
       "      <td>0.92</td>\n",
       "    </tr>\n",
       "    <tr>\n",
       "      <th>5</th>\n",
       "      <td>1.25</td>\n",
       "    </tr>\n",
       "    <tr>\n",
       "      <th>6</th>\n",
       "      <td>1.36</td>\n",
       "    </tr>\n",
       "    <tr>\n",
       "      <th>7</th>\n",
       "      <td>1.32</td>\n",
       "    </tr>\n",
       "    <tr>\n",
       "      <th>8</th>\n",
       "      <td>0.85</td>\n",
       "    </tr>\n",
       "    <tr>\n",
       "      <th>9</th>\n",
       "      <td>1.07</td>\n",
       "    </tr>\n",
       "    <tr>\n",
       "      <th>10</th>\n",
       "      <td>1.48</td>\n",
       "    </tr>\n",
       "    <tr>\n",
       "      <th>11</th>\n",
       "      <td>1.20</td>\n",
       "    </tr>\n",
       "    <tr>\n",
       "      <th>12</th>\n",
       "      <td>1.33</td>\n",
       "    </tr>\n",
       "    <tr>\n",
       "      <th>13</th>\n",
       "      <td>1.18</td>\n",
       "    </tr>\n",
       "    <tr>\n",
       "      <th>14</th>\n",
       "      <td>1.22</td>\n",
       "    </tr>\n",
       "    <tr>\n",
       "      <th>15</th>\n",
       "      <td>1.29</td>\n",
       "    </tr>\n",
       "  </tbody>\n",
       "</table>\n",
       "</div>"
      ],
      "text/plain": [
       "    Print-heads\n",
       "1          1.13\n",
       "2          1.55\n",
       "3          1.43\n",
       "4          0.92\n",
       "5          1.25\n",
       "6          1.36\n",
       "7          1.32\n",
       "8          0.85\n",
       "9          1.07\n",
       "10         1.48\n",
       "11         1.20\n",
       "12         1.33\n",
       "13         1.18\n",
       "14         1.22\n",
       "15         1.29"
      ]
     },
     "execution_count": 220,
     "metadata": {},
     "output_type": "execute_result"
    }
   ],
   "source": [
    "df"
   ]
  },
  {
   "cell_type": "markdown",
   "id": "57e96953-0a2d-45ae-aba6-8812e144916a",
   "metadata": {},
   "source": [
    "# --> Task A"
   ]
  },
  {
   "cell_type": "markdown",
   "id": "80580053-7f1f-4af6-9cb7-650c04d5a97d",
   "metadata": {},
   "source": [
    "## Build 99% Confidence Interval Using Sample Standard Deviation"
   ]
  },
  {
   "cell_type": "code",
   "execution_count": 223,
   "id": "06f9061c-42fb-4329-8067-7951dacbedac",
   "metadata": {},
   "outputs": [
    {
     "data": {
      "text/html": [
       "<div>\n",
       "<style scoped>\n",
       "    .dataframe tbody tr th:only-of-type {\n",
       "        vertical-align: middle;\n",
       "    }\n",
       "\n",
       "    .dataframe tbody tr th {\n",
       "        vertical-align: top;\n",
       "    }\n",
       "\n",
       "    .dataframe thead th {\n",
       "        text-align: right;\n",
       "    }\n",
       "</style>\n",
       "<table border=\"1\" class=\"dataframe\">\n",
       "  <thead>\n",
       "    <tr style=\"text-align: right;\">\n",
       "      <th></th>\n",
       "      <th>Print-heads</th>\n",
       "    </tr>\n",
       "  </thead>\n",
       "  <tbody>\n",
       "    <tr>\n",
       "      <th>1</th>\n",
       "      <td>1.13</td>\n",
       "    </tr>\n",
       "    <tr>\n",
       "      <th>2</th>\n",
       "      <td>1.55</td>\n",
       "    </tr>\n",
       "    <tr>\n",
       "      <th>3</th>\n",
       "      <td>1.43</td>\n",
       "    </tr>\n",
       "    <tr>\n",
       "      <th>4</th>\n",
       "      <td>0.92</td>\n",
       "    </tr>\n",
       "    <tr>\n",
       "      <th>5</th>\n",
       "      <td>1.25</td>\n",
       "    </tr>\n",
       "    <tr>\n",
       "      <th>6</th>\n",
       "      <td>1.36</td>\n",
       "    </tr>\n",
       "    <tr>\n",
       "      <th>7</th>\n",
       "      <td>1.32</td>\n",
       "    </tr>\n",
       "    <tr>\n",
       "      <th>8</th>\n",
       "      <td>0.85</td>\n",
       "    </tr>\n",
       "    <tr>\n",
       "      <th>9</th>\n",
       "      <td>1.07</td>\n",
       "    </tr>\n",
       "    <tr>\n",
       "      <th>10</th>\n",
       "      <td>1.48</td>\n",
       "    </tr>\n",
       "    <tr>\n",
       "      <th>11</th>\n",
       "      <td>1.20</td>\n",
       "    </tr>\n",
       "    <tr>\n",
       "      <th>12</th>\n",
       "      <td>1.33</td>\n",
       "    </tr>\n",
       "    <tr>\n",
       "      <th>13</th>\n",
       "      <td>1.18</td>\n",
       "    </tr>\n",
       "    <tr>\n",
       "      <th>14</th>\n",
       "      <td>1.22</td>\n",
       "    </tr>\n",
       "    <tr>\n",
       "      <th>15</th>\n",
       "      <td>1.29</td>\n",
       "    </tr>\n",
       "  </tbody>\n",
       "</table>\n",
       "</div>"
      ],
      "text/plain": [
       "    Print-heads\n",
       "1          1.13\n",
       "2          1.55\n",
       "3          1.43\n",
       "4          0.92\n",
       "5          1.25\n",
       "6          1.36\n",
       "7          1.32\n",
       "8          0.85\n",
       "9          1.07\n",
       "10         1.48\n",
       "11         1.20\n",
       "12         1.33\n",
       "13         1.18\n",
       "14         1.22\n",
       "15         1.29"
      ]
     },
     "execution_count": 223,
     "metadata": {},
     "output_type": "execute_result"
    }
   ],
   "source": [
    "df"
   ]
  },
  {
   "cell_type": "code",
   "execution_count": 224,
   "id": "fdaf256b-56ab-4579-a23d-f181f6aaa23a",
   "metadata": {},
   "outputs": [],
   "source": [
    "m=df['Print-heads'].mean()"
   ]
  },
  {
   "cell_type": "code",
   "execution_count": 225,
   "id": "b8bd5b67-92e6-4777-ad82-832d176e6fad",
   "metadata": {},
   "outputs": [],
   "source": [
    "std=df['Print-heads'].std()"
   ]
  },
  {
   "cell_type": "code",
   "execution_count": 296,
   "id": "af3c3748-d879-4488-939f-5a0e21302ab6",
   "metadata": {},
   "outputs": [],
   "source": [
    "df2=14\n",
    "ci=0.99\n",
    "q=(1+ci)/2"
   ]
  },
  {
   "cell_type": "code",
   "execution_count": 298,
   "id": "6ddd5648-74f0-4f99-9a38-2b9a6a95b10e",
   "metadata": {},
   "outputs": [],
   "source": [
    "from scipy import stats"
   ]
  },
  {
   "cell_type": "code",
   "execution_count": 300,
   "id": "541bfab5-eb3a-402b-9049-fed55ad3c7ce",
   "metadata": {},
   "outputs": [],
   "source": [
    "t_c=stats.t.ppf(q,df2)"
   ]
  },
  {
   "cell_type": "code",
   "execution_count": 302,
   "id": "f6755540-57ff-46ef-8edd-a3cd5cb8ea31",
   "metadata": {},
   "outputs": [
    {
     "data": {
      "text/plain": [
       "2.976842734370834"
      ]
     },
     "execution_count": 302,
     "metadata": {},
     "output_type": "execute_result"
    }
   ],
   "source": [
    "t_c"
   ]
  },
  {
   "cell_type": "code",
   "execution_count": 304,
   "id": "3524ab66-c54c-4dcc-bf49-e3e6c98c8741",
   "metadata": {},
   "outputs": [],
   "source": [
    "margin_of_error=t_c*std/np.sqrt(len(df))"
   ]
  },
  {
   "cell_type": "code",
   "execution_count": 306,
   "id": "4364041e-7f04-4865-a1f7-1cb14ab0cefe",
   "metadata": {},
   "outputs": [
    {
     "data": {
      "text/plain": [
       "0.14846932822817593"
      ]
     },
     "execution_count": 306,
     "metadata": {},
     "output_type": "execute_result"
    }
   ],
   "source": [
    "margin_of_error"
   ]
  },
  {
   "cell_type": "code",
   "execution_count": 308,
   "id": "1d4cb55c-9db5-40da-896a-9503474838c1",
   "metadata": {},
   "outputs": [],
   "source": [
    "CI=(round(m-margin_of_error,2),round(m+margin_of_error,2))"
   ]
  },
  {
   "cell_type": "code",
   "execution_count": 310,
   "id": "e59c8f7a-f40d-4f7e-9b3f-54d32f7b7356",
   "metadata": {},
   "outputs": [
    {
     "data": {
      "text/plain": [
       "(1.09, 1.39)"
      ]
     },
     "execution_count": 310,
     "metadata": {},
     "output_type": "execute_result"
    }
   ],
   "source": [
    "CI"
   ]
  },
  {
   "cell_type": "markdown",
   "id": "63cea78d-1680-4d0f-9c09-caef43679135",
   "metadata": {},
   "source": [
    "### In this scenario, the print heads durability in terms of the number of characters before failure is between 1.09 to 1.39 characters (in millions)"
   ]
  },
  {
   "cell_type": "markdown",
   "id": "f6ab1e62-9374-40bf-999f-ae605310a50c",
   "metadata": {},
   "source": [
    "# --> Task B"
   ]
  },
  {
   "cell_type": "markdown",
   "id": "ea0ac8df-98cd-4507-b362-578cac70deac",
   "metadata": {},
   "source": [
    "## Build 99% Confidence Interval Using Sample Standard Deviation"
   ]
  },
  {
   "cell_type": "code",
   "execution_count": 315,
   "id": "ebec9f75-599f-4bcd-a450-b415dce4ea34",
   "metadata": {},
   "outputs": [
    {
     "data": {
      "text/html": [
       "<div>\n",
       "<style scoped>\n",
       "    .dataframe tbody tr th:only-of-type {\n",
       "        vertical-align: middle;\n",
       "    }\n",
       "\n",
       "    .dataframe tbody tr th {\n",
       "        vertical-align: top;\n",
       "    }\n",
       "\n",
       "    .dataframe thead th {\n",
       "        text-align: right;\n",
       "    }\n",
       "</style>\n",
       "<table border=\"1\" class=\"dataframe\">\n",
       "  <thead>\n",
       "    <tr style=\"text-align: right;\">\n",
       "      <th></th>\n",
       "      <th>Print-heads</th>\n",
       "    </tr>\n",
       "  </thead>\n",
       "  <tbody>\n",
       "    <tr>\n",
       "      <th>1</th>\n",
       "      <td>1.13</td>\n",
       "    </tr>\n",
       "    <tr>\n",
       "      <th>2</th>\n",
       "      <td>1.55</td>\n",
       "    </tr>\n",
       "    <tr>\n",
       "      <th>3</th>\n",
       "      <td>1.43</td>\n",
       "    </tr>\n",
       "    <tr>\n",
       "      <th>4</th>\n",
       "      <td>0.92</td>\n",
       "    </tr>\n",
       "    <tr>\n",
       "      <th>5</th>\n",
       "      <td>1.25</td>\n",
       "    </tr>\n",
       "    <tr>\n",
       "      <th>6</th>\n",
       "      <td>1.36</td>\n",
       "    </tr>\n",
       "    <tr>\n",
       "      <th>7</th>\n",
       "      <td>1.32</td>\n",
       "    </tr>\n",
       "    <tr>\n",
       "      <th>8</th>\n",
       "      <td>0.85</td>\n",
       "    </tr>\n",
       "    <tr>\n",
       "      <th>9</th>\n",
       "      <td>1.07</td>\n",
       "    </tr>\n",
       "    <tr>\n",
       "      <th>10</th>\n",
       "      <td>1.48</td>\n",
       "    </tr>\n",
       "    <tr>\n",
       "      <th>11</th>\n",
       "      <td>1.20</td>\n",
       "    </tr>\n",
       "    <tr>\n",
       "      <th>12</th>\n",
       "      <td>1.33</td>\n",
       "    </tr>\n",
       "    <tr>\n",
       "      <th>13</th>\n",
       "      <td>1.18</td>\n",
       "    </tr>\n",
       "    <tr>\n",
       "      <th>14</th>\n",
       "      <td>1.22</td>\n",
       "    </tr>\n",
       "    <tr>\n",
       "      <th>15</th>\n",
       "      <td>1.29</td>\n",
       "    </tr>\n",
       "  </tbody>\n",
       "</table>\n",
       "</div>"
      ],
      "text/plain": [
       "    Print-heads\n",
       "1          1.13\n",
       "2          1.55\n",
       "3          1.43\n",
       "4          0.92\n",
       "5          1.25\n",
       "6          1.36\n",
       "7          1.32\n",
       "8          0.85\n",
       "9          1.07\n",
       "10         1.48\n",
       "11         1.20\n",
       "12         1.33\n",
       "13         1.18\n",
       "14         1.22\n",
       "15         1.29"
      ]
     },
     "execution_count": 315,
     "metadata": {},
     "output_type": "execute_result"
    }
   ],
   "source": [
    "df"
   ]
  },
  {
   "cell_type": "code",
   "execution_count": 317,
   "id": "09df8a48-8006-401a-8118-2eed24aa3aad",
   "metadata": {},
   "outputs": [],
   "source": [
    "std2=0.2"
   ]
  },
  {
   "cell_type": "code",
   "execution_count": 319,
   "id": "b97ab8ef-1e76-4fea-bcc9-4319c474f669",
   "metadata": {},
   "outputs": [],
   "source": [
    "z=(1+0.99)/2"
   ]
  },
  {
   "cell_type": "code",
   "execution_count": 321,
   "id": "417d1450-c4e3-4cb0-9f76-93752f36af2d",
   "metadata": {},
   "outputs": [
    {
     "data": {
      "text/plain": [
       "0.995"
      ]
     },
     "execution_count": 321,
     "metadata": {},
     "output_type": "execute_result"
    }
   ],
   "source": [
    "z"
   ]
  },
  {
   "cell_type": "code",
   "execution_count": 323,
   "id": "4e2e3095-bdd0-4c8e-8181-39dcd624efaf",
   "metadata": {},
   "outputs": [],
   "source": [
    "z_c=stats.norm.ppf(q=z)"
   ]
  },
  {
   "cell_type": "code",
   "execution_count": 325,
   "id": "a39621b0-f4bd-430f-8598-2538d5ccae64",
   "metadata": {},
   "outputs": [
    {
     "data": {
      "text/plain": [
       "2.5758293035489004"
      ]
     },
     "execution_count": 325,
     "metadata": {},
     "output_type": "execute_result"
    }
   ],
   "source": [
    "z_c"
   ]
  },
  {
   "cell_type": "code",
   "execution_count": 330,
   "id": "7f88e767-4565-400b-a5f7-ac1069f8598a",
   "metadata": {},
   "outputs": [],
   "source": [
    "margin_of_error2=z_c*std2/np.sqrt(len(df))"
   ]
  },
  {
   "cell_type": "code",
   "execution_count": 332,
   "id": "5075d1fd-3920-46e6-a62d-3615102141a7",
   "metadata": {},
   "outputs": [],
   "source": [
    "CI2=(round(m-margin_of_error2,2),round(m+margin_of_error2,2))"
   ]
  },
  {
   "cell_type": "code",
   "execution_count": 334,
   "id": "1a8eab9e-765e-4902-8229-10db9e6121d2",
   "metadata": {},
   "outputs": [
    {
     "data": {
      "text/plain": [
       "(1.11, 1.37)"
      ]
     },
     "execution_count": 334,
     "metadata": {},
     "output_type": "execute_result"
    }
   ],
   "source": [
    "CI2"
   ]
  },
  {
   "cell_type": "markdown",
   "id": "f7694158-55ba-4829-8b44-cfed2566c48a",
   "metadata": {},
   "source": [
    "### In this scenario, the print heads durability in terms of the number of characters before failure is between 1.11 to 1.37 characters (in millions)"
   ]
  },
  {
   "cell_type": "code",
   "execution_count": null,
   "id": "153bf3e6-4d91-4789-a70b-034503e47aa0",
   "metadata": {},
   "outputs": [],
   "source": []
  }
 ],
 "metadata": {
  "kernelspec": {
   "display_name": "Python 3 (ipykernel)",
   "language": "python",
   "name": "python3"
  },
  "language_info": {
   "codemirror_mode": {
    "name": "ipython",
    "version": 3
   },
   "file_extension": ".py",
   "mimetype": "text/x-python",
   "name": "python",
   "nbconvert_exporter": "python",
   "pygments_lexer": "ipython3",
   "version": "3.12.7"
  }
 },
 "nbformat": 4,
 "nbformat_minor": 5
}
