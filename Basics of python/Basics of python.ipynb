{
 "cells": [
  {
   "cell_type": "markdown",
   "id": "85a709f8-e9fc-4054-a824-50a954f8ee4d",
   "metadata": {},
   "source": [
    "# Exercise 1: Prime Numbers"
   ]
  },
  {
   "cell_type": "code",
   "execution_count": 27,
   "id": "ee551495-38d7-48d1-b60a-0a385ea84886",
   "metadata": {},
   "outputs": [
    {
     "name": "stdin",
     "output_type": "stream",
     "text": [
      "Enter a number:  77\n"
     ]
    },
    {
     "name": "stdout",
     "output_type": "stream",
     "text": [
      "77 is not a prime number.\n"
     ]
    }
   ],
   "source": [
    "def prime_num(num):\n",
    "    \"\"\"\n",
    "    Function to check if a number is a prime number.\n",
    "    A prime number is greater than 1 and divisible only by 1 and itself.\n",
    "    \"\"\"\n",
    "    if num <= 1:  # Check if the number is less than or equal to 1\n",
    "        return False  # Numbers <= 1 are not prime numbers\n",
    "    \n",
    "    # Iterate from 2 to the square root of the number (inclusive)\n",
    "    for i in range(2, int(num**0.5) + 1):\n",
    "        if num % i == 0:  # Check if the number is divisible by any number in this range\n",
    "            return False  # If divisible, it's not a prime number\n",
    "    \n",
    "    return True  # If no divisors are found, it's a prime number\n",
    "\n",
    "# Take input from the user\n",
    "num = int(input('Enter a number: '))\n",
    "\n",
    "# Check and print whether the number is prime\n",
    "if prime_num(num):\n",
    "    print(f\"{num} is a prime number.\")\n",
    "else:\n",
    "    print(f\"{num} is not a prime number.\")\n"
   ]
  },
  {
   "cell_type": "markdown",
   "id": "ff35265e-3201-4037-b3d2-5587ab6433c9",
   "metadata": {},
   "source": [
    "# Exercise 2: Product of Random Numbers"
   ]
  },
  {
   "cell_type": "code",
   "execution_count": 30,
   "id": "7d3be458-d74d-401e-b535-3a5d056d8a43",
   "metadata": {},
   "outputs": [],
   "source": [
    "import random as rd  # Importing the random module to generate random numbers\n",
    "\n",
    "def product():\n",
    "    \"\"\"\n",
    "    Function to generate a multiplication problem with two random integers\n",
    "    and check the user's answer.\n",
    "    \"\"\"\n",
    "    r1 = rd.randint(1, 100)  # Generate a random integer between 1 and 100\n",
    "    r2 = rd.randint(1, 100)  # Generate another random integer between 1 and 100\n",
    "    correct_ans = r1 * r2  # Calculate the correct product\n",
    "    \n",
    "    # Display the problem to the user\n",
    "    print(f\"What is the product of {r1} x {r2}?\")\n",
    "    \n",
    "    # Take the user's answer as input\n",
    "    your_ans = int(input(\"Your answer: \"))\n",
    "    \n",
    "    # Check if the user's answer is correct\n",
    "    if correct_ans == your_ans:\n",
    "        print(\"Your answer is correct! 🎉\")\n",
    "    else:\n",
    "        print(f\"Incorrect, the correct answer is: {correct_ans}\")\n"
   ]
  },
  {
   "cell_type": "code",
   "execution_count": 13,
   "id": "b0dba255-4bae-4c4f-9354-a5671d69b67b",
   "metadata": {},
   "outputs": [
    {
     "name": "stdout",
     "output_type": "stream",
     "text": [
      "what is the product of 25 x 75\n"
     ]
    },
    {
     "name": "stdin",
     "output_type": "stream",
     "text": [
      "your answer: 1825\n"
     ]
    },
    {
     "name": "stdout",
     "output_type": "stream",
     "text": [
      "Incorrect, correct answer is : 1875\n"
     ]
    }
   ],
   "source": [
    "product() # calling the function"
   ]
  },
  {
   "cell_type": "code",
   "execution_count": 15,
   "id": "f5215a90-5bcb-4332-8fd3-ac5fd7c3c09d",
   "metadata": {},
   "outputs": [
    {
     "name": "stdout",
     "output_type": "stream",
     "text": [
      "what is the product of 99 x 88\n"
     ]
    },
    {
     "name": "stdin",
     "output_type": "stream",
     "text": [
      "your answer: 8712\n"
     ]
    },
    {
     "name": "stdout",
     "output_type": "stream",
     "text": [
      "Your answer is correct !!!\n"
     ]
    }
   ],
   "source": [
    "product() # calling the function"
   ]
  },
  {
   "cell_type": "markdown",
   "id": "4fa984e0-d7ba-4d16-8639-6b6ea7065ddd",
   "metadata": {},
   "source": [
    "# # Exercise 3: Squares of Even/Odd Numbers"
   ]
  },
  {
   "cell_type": "code",
   "execution_count": 54,
   "id": "accdccdc-0bc0-426f-9ea0-4eee4d1cd16a",
   "metadata": {},
   "outputs": [],
   "source": [
    "def sq_even_odd():\n",
    "    \"\"\"\n",
    "    Function to calculate and display the squares of even and odd numbers\n",
    "    in the range of 100 to 200 (inclusive).\n",
    "    \"\"\"\n",
    "    print(\"Squares of even numbers:\")\n",
    "    for i in range(100, 201):\n",
    "        if i % 2 == 0:  # Check if the number is even\n",
    "            print(i,'square is',i*i)  # Print the number and its square\n",
    "    \n",
    "    print(\"Squares of odd numbers:\")\n",
    "    for i in range(100, 201):\n",
    "        if i % 2 != 0:  # Check if the number is odd\n",
    "            print(i,'square is',i*i)  # Print the number and its square\n"
   ]
  },
  {
   "cell_type": "code",
   "execution_count": 56,
   "id": "a9d423e5-f536-445e-ad2a-7c484c56c236",
   "metadata": {},
   "outputs": [
    {
     "name": "stdout",
     "output_type": "stream",
     "text": [
      "Squares of even numbers:\n",
      "100 square is 10000\n",
      "102 square is 10404\n",
      "104 square is 10816\n",
      "106 square is 11236\n",
      "108 square is 11664\n",
      "110 square is 12100\n",
      "112 square is 12544\n",
      "114 square is 12996\n",
      "116 square is 13456\n",
      "118 square is 13924\n",
      "120 square is 14400\n",
      "122 square is 14884\n",
      "124 square is 15376\n",
      "126 square is 15876\n",
      "128 square is 16384\n",
      "130 square is 16900\n",
      "132 square is 17424\n",
      "134 square is 17956\n",
      "136 square is 18496\n",
      "138 square is 19044\n",
      "140 square is 19600\n",
      "142 square is 20164\n",
      "144 square is 20736\n",
      "146 square is 21316\n",
      "148 square is 21904\n",
      "150 square is 22500\n",
      "152 square is 23104\n",
      "154 square is 23716\n",
      "156 square is 24336\n",
      "158 square is 24964\n",
      "160 square is 25600\n",
      "162 square is 26244\n",
      "164 square is 26896\n",
      "166 square is 27556\n",
      "168 square is 28224\n",
      "170 square is 28900\n",
      "172 square is 29584\n",
      "174 square is 30276\n",
      "176 square is 30976\n",
      "178 square is 31684\n",
      "180 square is 32400\n",
      "182 square is 33124\n",
      "184 square is 33856\n",
      "186 square is 34596\n",
      "188 square is 35344\n",
      "190 square is 36100\n",
      "192 square is 36864\n",
      "194 square is 37636\n",
      "196 square is 38416\n",
      "198 square is 39204\n",
      "200 square is 40000\n",
      "Squares of odd numbers:\n",
      "101 square is 10201\n",
      "103 square is 10609\n",
      "105 square is 11025\n",
      "107 square is 11449\n",
      "109 square is 11881\n",
      "111 square is 12321\n",
      "113 square is 12769\n",
      "115 square is 13225\n",
      "117 square is 13689\n",
      "119 square is 14161\n",
      "121 square is 14641\n",
      "123 square is 15129\n",
      "125 square is 15625\n",
      "127 square is 16129\n",
      "129 square is 16641\n",
      "131 square is 17161\n",
      "133 square is 17689\n",
      "135 square is 18225\n",
      "137 square is 18769\n",
      "139 square is 19321\n",
      "141 square is 19881\n",
      "143 square is 20449\n",
      "145 square is 21025\n",
      "147 square is 21609\n",
      "149 square is 22201\n",
      "151 square is 22801\n",
      "153 square is 23409\n",
      "155 square is 24025\n",
      "157 square is 24649\n",
      "159 square is 25281\n",
      "161 square is 25921\n",
      "163 square is 26569\n",
      "165 square is 27225\n",
      "167 square is 27889\n",
      "169 square is 28561\n",
      "171 square is 29241\n",
      "173 square is 29929\n",
      "175 square is 30625\n",
      "177 square is 31329\n",
      "179 square is 32041\n",
      "181 square is 32761\n",
      "183 square is 33489\n",
      "185 square is 34225\n",
      "187 square is 34969\n",
      "189 square is 35721\n",
      "191 square is 36481\n",
      "193 square is 37249\n",
      "195 square is 38025\n",
      "197 square is 38809\n",
      "199 square is 39601\n"
     ]
    }
   ],
   "source": [
    "sq_even_odd() # calling the function"
   ]
  },
  {
   "cell_type": "markdown",
   "id": "c4ce24fe-1a18-4f8a-bd5c-47838b82fb02",
   "metadata": {},
   "source": [
    "# Exercise 4: Word counter"
   ]
  },
  {
   "cell_type": "code",
   "execution_count": 23,
   "id": "4404e03d-7a50-411f-8903-59f21ac79822",
   "metadata": {},
   "outputs": [],
   "source": [
    "def count_words(sentence):\n",
    "    \"\"\"\n",
    "    This function counts the number of words and punctuation marks in a given sentence.\n",
    "\n",
    "    Parameters:\n",
    "    sentence (str): The sentence whose words and punctuation marks are to be counted.\n",
    "\n",
    "    Returns:\n",
    "    None: Prints the count of words and punctuation marks.\n",
    "    \"\"\"\n",
    "\n",
    "    # Step 1: Split the sentence into a list of words using the split() method.\n",
    "    # The split() method splits the sentence into words separated by whitespace.\n",
    "    words = sentence.split()\n",
    "\n",
    "    # Step 2: Count the number of elements in the words list.\n",
    "    # Each element in the list is either a word or punctuation treated as a separate string.\n",
    "    word_count = len(words)\n",
    "\n",
    "    # Step 3: Print the count of words and punctuation marks.\n",
    "    print(\"The number of words and punctuation marks in the sentence is:\", word_count)\n",
    "    \n",
    "    return  # The function does not return any value.\n"
   ]
  },
  {
   "cell_type": "code",
   "execution_count": 25,
   "id": "9f75683c-b9b6-4f84-874d-b05a2e6e60be",
   "metadata": {},
   "outputs": [
    {
     "name": "stdout",
     "output_type": "stream",
     "text": [
      "The number of words and punctuation marks in the sentence is: 11\n"
     ]
    }
   ],
   "source": [
    "count_words(\"hello my name is G and I am of age 25.\") # calling the function"
   ]
  },
  {
   "cell_type": "markdown",
   "id": "599eabf1-c6f6-4f10-9ec9-95797a341ed6",
   "metadata": {},
   "source": [
    "# Exercise 5: Check for Palindrome"
   ]
  },
  {
   "cell_type": "code",
   "execution_count": 27,
   "id": "3067a622-7cde-42cf-ab84-827ceae554c9",
   "metadata": {},
   "outputs": [
    {
     "name": "stdin",
     "output_type": "stream",
     "text": [
      "Enter the word:  madam\n"
     ]
    },
    {
     "name": "stdout",
     "output_type": "stream",
     "text": [
      "madam is a palindrome !!\n"
     ]
    }
   ],
   "source": [
    "def chk_palindrome(string):\n",
    "    string = string.lower()  # Convert the string to lowercase\n",
    "    string = string.replace(' ', '')  # Remove spaces from the string\n",
    "    reversed_string = string[::-1]  # Reverse the string\n",
    "    \n",
    "    # Check if the reversed string is equal to the original\n",
    "    if reversed_string == string:\n",
    "        return True\n",
    "    return False\n",
    "\n",
    "# Take input from the user\n",
    "user_input = input('Enter the word: ')\n",
    "\n",
    "# Check if the input is a palindrome and print the result\n",
    "if chk_palindrome(user_input):\n",
    "    print(user_input, 'is a palindrome !!')\n",
    "else:\n",
    "    print(user_input, 'is not a palindrome !!')\n"
   ]
  }
 ],
 "metadata": {
  "kernelspec": {
   "display_name": "Python 3 (ipykernel)",
   "language": "python",
   "name": "python3"
  },
  "language_info": {
   "codemirror_mode": {
    "name": "ipython",
    "version": 3
   },
   "file_extension": ".py",
   "mimetype": "text/x-python",
   "name": "python",
   "nbconvert_exporter": "python",
   "pygments_lexer": "ipython3",
   "version": "3.12.7"
  }
 },
 "nbformat": 4,
 "nbformat_minor": 5
}
